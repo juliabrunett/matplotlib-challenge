{
 "cells": [
  {
   "cell_type": "code",
   "execution_count": 1,
   "id": "corrected-crime",
   "metadata": {},
   "outputs": [],
   "source": [
    "# Import dependencies\n",
    "import pandas as pd\n",
    "import numpy as np\n",
    "import matplotlib.pyplot as plt\n",
    "import scipy.stats as sts\n",
    "from scipy.stats import sem"
   ]
  },
  {
   "cell_type": "code",
   "execution_count": 2,
   "id": "smooth-holmes",
   "metadata": {},
   "outputs": [],
   "source": [
    "# Define file location\n",
    "mouse_file = \"../Resources/Mouse_metadata.csv\"\n",
    "results_file = \"../Resources/Study_results.csv\""
   ]
  },
  {
   "cell_type": "code",
   "execution_count": 3,
   "id": "local-method",
   "metadata": {},
   "outputs": [],
   "source": [
    "# Read in files to two DataFrames\n",
    "mouse_df = pd.read_csv(mouse_file, encoding=\"utf8\")\n",
    "results_df = pd.read_csv(results_file, encoding=\"utf8\")"
   ]
  },
  {
   "cell_type": "code",
   "execution_count": 4,
   "id": "alpha-review",
   "metadata": {},
   "outputs": [
    {
     "data": {
      "text/html": [
       "<div>\n",
       "<style scoped>\n",
       "    .dataframe tbody tr th:only-of-type {\n",
       "        vertical-align: middle;\n",
       "    }\n",
       "\n",
       "    .dataframe tbody tr th {\n",
       "        vertical-align: top;\n",
       "    }\n",
       "\n",
       "    .dataframe thead th {\n",
       "        text-align: right;\n",
       "    }\n",
       "</style>\n",
       "<table border=\"1\" class=\"dataframe\">\n",
       "  <thead>\n",
       "    <tr style=\"text-align: right;\">\n",
       "      <th></th>\n",
       "      <th>Mouse ID</th>\n",
       "      <th>Drug Regimen</th>\n",
       "      <th>Sex</th>\n",
       "      <th>Age_months</th>\n",
       "      <th>Weight (g)</th>\n",
       "    </tr>\n",
       "  </thead>\n",
       "  <tbody>\n",
       "    <tr>\n",
       "      <th>0</th>\n",
       "      <td>k403</td>\n",
       "      <td>Ramicane</td>\n",
       "      <td>Male</td>\n",
       "      <td>21</td>\n",
       "      <td>16</td>\n",
       "    </tr>\n",
       "    <tr>\n",
       "      <th>1</th>\n",
       "      <td>s185</td>\n",
       "      <td>Capomulin</td>\n",
       "      <td>Female</td>\n",
       "      <td>3</td>\n",
       "      <td>17</td>\n",
       "    </tr>\n",
       "    <tr>\n",
       "      <th>2</th>\n",
       "      <td>x401</td>\n",
       "      <td>Capomulin</td>\n",
       "      <td>Female</td>\n",
       "      <td>16</td>\n",
       "      <td>15</td>\n",
       "    </tr>\n",
       "    <tr>\n",
       "      <th>3</th>\n",
       "      <td>m601</td>\n",
       "      <td>Capomulin</td>\n",
       "      <td>Male</td>\n",
       "      <td>22</td>\n",
       "      <td>17</td>\n",
       "    </tr>\n",
       "    <tr>\n",
       "      <th>4</th>\n",
       "      <td>g791</td>\n",
       "      <td>Ramicane</td>\n",
       "      <td>Male</td>\n",
       "      <td>11</td>\n",
       "      <td>16</td>\n",
       "    </tr>\n",
       "    <tr>\n",
       "      <th>...</th>\n",
       "      <td>...</td>\n",
       "      <td>...</td>\n",
       "      <td>...</td>\n",
       "      <td>...</td>\n",
       "      <td>...</td>\n",
       "    </tr>\n",
       "    <tr>\n",
       "      <th>244</th>\n",
       "      <td>z314</td>\n",
       "      <td>Stelasyn</td>\n",
       "      <td>Female</td>\n",
       "      <td>21</td>\n",
       "      <td>28</td>\n",
       "    </tr>\n",
       "    <tr>\n",
       "      <th>245</th>\n",
       "      <td>z435</td>\n",
       "      <td>Propriva</td>\n",
       "      <td>Female</td>\n",
       "      <td>12</td>\n",
       "      <td>26</td>\n",
       "    </tr>\n",
       "    <tr>\n",
       "      <th>246</th>\n",
       "      <td>z581</td>\n",
       "      <td>Infubinol</td>\n",
       "      <td>Female</td>\n",
       "      <td>24</td>\n",
       "      <td>25</td>\n",
       "    </tr>\n",
       "    <tr>\n",
       "      <th>247</th>\n",
       "      <td>z795</td>\n",
       "      <td>Naftisol</td>\n",
       "      <td>Female</td>\n",
       "      <td>13</td>\n",
       "      <td>29</td>\n",
       "    </tr>\n",
       "    <tr>\n",
       "      <th>248</th>\n",
       "      <td>z969</td>\n",
       "      <td>Naftisol</td>\n",
       "      <td>Male</td>\n",
       "      <td>9</td>\n",
       "      <td>30</td>\n",
       "    </tr>\n",
       "  </tbody>\n",
       "</table>\n",
       "<p>249 rows × 5 columns</p>\n",
       "</div>"
      ],
      "text/plain": [
       "    Mouse ID Drug Regimen     Sex  Age_months  Weight (g)\n",
       "0       k403     Ramicane    Male          21          16\n",
       "1       s185    Capomulin  Female           3          17\n",
       "2       x401    Capomulin  Female          16          15\n",
       "3       m601    Capomulin    Male          22          17\n",
       "4       g791     Ramicane    Male          11          16\n",
       "..       ...          ...     ...         ...         ...\n",
       "244     z314     Stelasyn  Female          21          28\n",
       "245     z435     Propriva  Female          12          26\n",
       "246     z581    Infubinol  Female          24          25\n",
       "247     z795     Naftisol  Female          13          29\n",
       "248     z969     Naftisol    Male           9          30\n",
       "\n",
       "[249 rows x 5 columns]"
      ]
     },
     "execution_count": 4,
     "metadata": {},
     "output_type": "execute_result"
    }
   ],
   "source": [
    "mouse_df"
   ]
  },
  {
   "cell_type": "code",
   "execution_count": 5,
   "id": "appointed-accent",
   "metadata": {},
   "outputs": [
    {
     "data": {
      "text/html": [
       "<div>\n",
       "<style scoped>\n",
       "    .dataframe tbody tr th:only-of-type {\n",
       "        vertical-align: middle;\n",
       "    }\n",
       "\n",
       "    .dataframe tbody tr th {\n",
       "        vertical-align: top;\n",
       "    }\n",
       "\n",
       "    .dataframe thead th {\n",
       "        text-align: right;\n",
       "    }\n",
       "</style>\n",
       "<table border=\"1\" class=\"dataframe\">\n",
       "  <thead>\n",
       "    <tr style=\"text-align: right;\">\n",
       "      <th></th>\n",
       "      <th>Mouse ID</th>\n",
       "      <th>Timepoint</th>\n",
       "      <th>Tumor Volume (mm3)</th>\n",
       "      <th>Metastatic Sites</th>\n",
       "    </tr>\n",
       "  </thead>\n",
       "  <tbody>\n",
       "    <tr>\n",
       "      <th>0</th>\n",
       "      <td>b128</td>\n",
       "      <td>0</td>\n",
       "      <td>45.000000</td>\n",
       "      <td>0</td>\n",
       "    </tr>\n",
       "    <tr>\n",
       "      <th>1</th>\n",
       "      <td>f932</td>\n",
       "      <td>0</td>\n",
       "      <td>45.000000</td>\n",
       "      <td>0</td>\n",
       "    </tr>\n",
       "    <tr>\n",
       "      <th>2</th>\n",
       "      <td>g107</td>\n",
       "      <td>0</td>\n",
       "      <td>45.000000</td>\n",
       "      <td>0</td>\n",
       "    </tr>\n",
       "    <tr>\n",
       "      <th>3</th>\n",
       "      <td>a457</td>\n",
       "      <td>0</td>\n",
       "      <td>45.000000</td>\n",
       "      <td>0</td>\n",
       "    </tr>\n",
       "    <tr>\n",
       "      <th>4</th>\n",
       "      <td>c819</td>\n",
       "      <td>0</td>\n",
       "      <td>45.000000</td>\n",
       "      <td>0</td>\n",
       "    </tr>\n",
       "    <tr>\n",
       "      <th>...</th>\n",
       "      <td>...</td>\n",
       "      <td>...</td>\n",
       "      <td>...</td>\n",
       "      <td>...</td>\n",
       "    </tr>\n",
       "    <tr>\n",
       "      <th>1888</th>\n",
       "      <td>r944</td>\n",
       "      <td>45</td>\n",
       "      <td>41.581521</td>\n",
       "      <td>2</td>\n",
       "    </tr>\n",
       "    <tr>\n",
       "      <th>1889</th>\n",
       "      <td>u364</td>\n",
       "      <td>45</td>\n",
       "      <td>31.023923</td>\n",
       "      <td>3</td>\n",
       "    </tr>\n",
       "    <tr>\n",
       "      <th>1890</th>\n",
       "      <td>p438</td>\n",
       "      <td>45</td>\n",
       "      <td>61.433892</td>\n",
       "      <td>1</td>\n",
       "    </tr>\n",
       "    <tr>\n",
       "      <th>1891</th>\n",
       "      <td>x773</td>\n",
       "      <td>45</td>\n",
       "      <td>58.634971</td>\n",
       "      <td>4</td>\n",
       "    </tr>\n",
       "    <tr>\n",
       "      <th>1892</th>\n",
       "      <td>b879</td>\n",
       "      <td>45</td>\n",
       "      <td>72.555239</td>\n",
       "      <td>2</td>\n",
       "    </tr>\n",
       "  </tbody>\n",
       "</table>\n",
       "<p>1893 rows × 4 columns</p>\n",
       "</div>"
      ],
      "text/plain": [
       "     Mouse ID  Timepoint  Tumor Volume (mm3)  Metastatic Sites\n",
       "0        b128          0           45.000000                 0\n",
       "1        f932          0           45.000000                 0\n",
       "2        g107          0           45.000000                 0\n",
       "3        a457          0           45.000000                 0\n",
       "4        c819          0           45.000000                 0\n",
       "...       ...        ...                 ...               ...\n",
       "1888     r944         45           41.581521                 2\n",
       "1889     u364         45           31.023923                 3\n",
       "1890     p438         45           61.433892                 1\n",
       "1891     x773         45           58.634971                 4\n",
       "1892     b879         45           72.555239                 2\n",
       "\n",
       "[1893 rows x 4 columns]"
      ]
     },
     "execution_count": 5,
     "metadata": {},
     "output_type": "execute_result"
    }
   ],
   "source": [
    "results_df"
   ]
  },
  {
   "cell_type": "code",
   "execution_count": 6,
   "id": "pleasant-spanish",
   "metadata": {},
   "outputs": [
    {
     "data": {
      "text/html": [
       "<div>\n",
       "<style scoped>\n",
       "    .dataframe tbody tr th:only-of-type {\n",
       "        vertical-align: middle;\n",
       "    }\n",
       "\n",
       "    .dataframe tbody tr th {\n",
       "        vertical-align: top;\n",
       "    }\n",
       "\n",
       "    .dataframe thead th {\n",
       "        text-align: right;\n",
       "    }\n",
       "</style>\n",
       "<table border=\"1\" class=\"dataframe\">\n",
       "  <thead>\n",
       "    <tr style=\"text-align: right;\">\n",
       "      <th></th>\n",
       "      <th>Mouse ID</th>\n",
       "      <th>Timepoint</th>\n",
       "      <th>Tumor Volume (mm3)</th>\n",
       "      <th>Metastatic Sites</th>\n",
       "    </tr>\n",
       "  </thead>\n",
       "  <tbody>\n",
       "    <tr>\n",
       "      <th>0</th>\n",
       "      <td>b128</td>\n",
       "      <td>0</td>\n",
       "      <td>45.000000</td>\n",
       "      <td>0</td>\n",
       "    </tr>\n",
       "    <tr>\n",
       "      <th>1</th>\n",
       "      <td>f932</td>\n",
       "      <td>0</td>\n",
       "      <td>45.000000</td>\n",
       "      <td>0</td>\n",
       "    </tr>\n",
       "    <tr>\n",
       "      <th>2</th>\n",
       "      <td>g107</td>\n",
       "      <td>0</td>\n",
       "      <td>45.000000</td>\n",
       "      <td>0</td>\n",
       "    </tr>\n",
       "    <tr>\n",
       "      <th>3</th>\n",
       "      <td>a457</td>\n",
       "      <td>0</td>\n",
       "      <td>45.000000</td>\n",
       "      <td>0</td>\n",
       "    </tr>\n",
       "    <tr>\n",
       "      <th>4</th>\n",
       "      <td>c819</td>\n",
       "      <td>0</td>\n",
       "      <td>45.000000</td>\n",
       "      <td>0</td>\n",
       "    </tr>\n",
       "    <tr>\n",
       "      <th>...</th>\n",
       "      <td>...</td>\n",
       "      <td>...</td>\n",
       "      <td>...</td>\n",
       "      <td>...</td>\n",
       "    </tr>\n",
       "    <tr>\n",
       "      <th>1888</th>\n",
       "      <td>r944</td>\n",
       "      <td>45</td>\n",
       "      <td>41.581521</td>\n",
       "      <td>2</td>\n",
       "    </tr>\n",
       "    <tr>\n",
       "      <th>1889</th>\n",
       "      <td>u364</td>\n",
       "      <td>45</td>\n",
       "      <td>31.023923</td>\n",
       "      <td>3</td>\n",
       "    </tr>\n",
       "    <tr>\n",
       "      <th>1890</th>\n",
       "      <td>p438</td>\n",
       "      <td>45</td>\n",
       "      <td>61.433892</td>\n",
       "      <td>1</td>\n",
       "    </tr>\n",
       "    <tr>\n",
       "      <th>1891</th>\n",
       "      <td>x773</td>\n",
       "      <td>45</td>\n",
       "      <td>58.634971</td>\n",
       "      <td>4</td>\n",
       "    </tr>\n",
       "    <tr>\n",
       "      <th>1892</th>\n",
       "      <td>b879</td>\n",
       "      <td>45</td>\n",
       "      <td>72.555239</td>\n",
       "      <td>2</td>\n",
       "    </tr>\n",
       "  </tbody>\n",
       "</table>\n",
       "<p>1883 rows × 4 columns</p>\n",
       "</div>"
      ],
      "text/plain": [
       "     Mouse ID  Timepoint  Tumor Volume (mm3)  Metastatic Sites\n",
       "0        b128          0           45.000000                 0\n",
       "1        f932          0           45.000000                 0\n",
       "2        g107          0           45.000000                 0\n",
       "3        a457          0           45.000000                 0\n",
       "4        c819          0           45.000000                 0\n",
       "...       ...        ...                 ...               ...\n",
       "1888     r944         45           41.581521                 2\n",
       "1889     u364         45           31.023923                 3\n",
       "1890     p438         45           61.433892                 1\n",
       "1891     x773         45           58.634971                 4\n",
       "1892     b879         45           72.555239                 2\n",
       "\n",
       "[1883 rows x 4 columns]"
      ]
     },
     "execution_count": 6,
     "metadata": {},
     "output_type": "execute_result"
    }
   ],
   "source": [
    "# Check for duplicate timepoints with a single mouse ID and create a new column\n",
    "results_df[\"Duplicate\"] = results_df.duplicated(subset=[\"Mouse ID\", \"Timepoint\"], keep=False)\n",
    "\n",
    "# Remove duplicates\n",
    "results_reduced_df = results_df.loc[results_df[\"Duplicate\"] == False, [\"Mouse ID\", \"Timepoint\", \"Tumor Volume (mm3)\",\n",
    "                                                                      \"Metastatic Sites\"]]\n",
    "results_reduced_df"
   ]
  },
  {
   "cell_type": "code",
   "execution_count": 7,
   "id": "finished-musician",
   "metadata": {},
   "outputs": [],
   "source": [
    "# Identify duplicates\n",
    "#results_df.loc[results_df[\"Duplicate\"] == True, [\"Mouse ID\", \"Timepoint\", \"Tumor Volume (mm3)\",\"Metastatic Sites\"]]"
   ]
  },
  {
   "cell_type": "code",
   "execution_count": 8,
   "id": "spanish-cheese",
   "metadata": {},
   "outputs": [
    {
     "data": {
      "text/html": [
       "<div>\n",
       "<style scoped>\n",
       "    .dataframe tbody tr th:only-of-type {\n",
       "        vertical-align: middle;\n",
       "    }\n",
       "\n",
       "    .dataframe tbody tr th {\n",
       "        vertical-align: top;\n",
       "    }\n",
       "\n",
       "    .dataframe thead th {\n",
       "        text-align: right;\n",
       "    }\n",
       "</style>\n",
       "<table border=\"1\" class=\"dataframe\">\n",
       "  <thead>\n",
       "    <tr style=\"text-align: right;\">\n",
       "      <th></th>\n",
       "      <th>Mouse ID</th>\n",
       "      <th>Drug Regimen</th>\n",
       "      <th>Sex</th>\n",
       "      <th>Age_months</th>\n",
       "      <th>Weight (g)</th>\n",
       "      <th>Timepoint</th>\n",
       "      <th>Tumor Volume (mm3)</th>\n",
       "      <th>Metastatic Sites</th>\n",
       "    </tr>\n",
       "  </thead>\n",
       "  <tbody>\n",
       "    <tr>\n",
       "      <th>0</th>\n",
       "      <td>k403</td>\n",
       "      <td>Ramicane</td>\n",
       "      <td>Male</td>\n",
       "      <td>21</td>\n",
       "      <td>16</td>\n",
       "      <td>0</td>\n",
       "      <td>45.000000</td>\n",
       "      <td>0</td>\n",
       "    </tr>\n",
       "    <tr>\n",
       "      <th>1</th>\n",
       "      <td>k403</td>\n",
       "      <td>Ramicane</td>\n",
       "      <td>Male</td>\n",
       "      <td>21</td>\n",
       "      <td>16</td>\n",
       "      <td>5</td>\n",
       "      <td>38.825898</td>\n",
       "      <td>0</td>\n",
       "    </tr>\n",
       "    <tr>\n",
       "      <th>2</th>\n",
       "      <td>k403</td>\n",
       "      <td>Ramicane</td>\n",
       "      <td>Male</td>\n",
       "      <td>21</td>\n",
       "      <td>16</td>\n",
       "      <td>10</td>\n",
       "      <td>35.014271</td>\n",
       "      <td>1</td>\n",
       "    </tr>\n",
       "    <tr>\n",
       "      <th>3</th>\n",
       "      <td>k403</td>\n",
       "      <td>Ramicane</td>\n",
       "      <td>Male</td>\n",
       "      <td>21</td>\n",
       "      <td>16</td>\n",
       "      <td>15</td>\n",
       "      <td>34.223992</td>\n",
       "      <td>1</td>\n",
       "    </tr>\n",
       "    <tr>\n",
       "      <th>4</th>\n",
       "      <td>k403</td>\n",
       "      <td>Ramicane</td>\n",
       "      <td>Male</td>\n",
       "      <td>21</td>\n",
       "      <td>16</td>\n",
       "      <td>20</td>\n",
       "      <td>32.997729</td>\n",
       "      <td>1</td>\n",
       "    </tr>\n",
       "    <tr>\n",
       "      <th>...</th>\n",
       "      <td>...</td>\n",
       "      <td>...</td>\n",
       "      <td>...</td>\n",
       "      <td>...</td>\n",
       "      <td>...</td>\n",
       "      <td>...</td>\n",
       "      <td>...</td>\n",
       "      <td>...</td>\n",
       "    </tr>\n",
       "    <tr>\n",
       "      <th>1878</th>\n",
       "      <td>z969</td>\n",
       "      <td>Naftisol</td>\n",
       "      <td>Male</td>\n",
       "      <td>9</td>\n",
       "      <td>30</td>\n",
       "      <td>25</td>\n",
       "      <td>63.145652</td>\n",
       "      <td>2</td>\n",
       "    </tr>\n",
       "    <tr>\n",
       "      <th>1879</th>\n",
       "      <td>z969</td>\n",
       "      <td>Naftisol</td>\n",
       "      <td>Male</td>\n",
       "      <td>9</td>\n",
       "      <td>30</td>\n",
       "      <td>30</td>\n",
       "      <td>65.841013</td>\n",
       "      <td>3</td>\n",
       "    </tr>\n",
       "    <tr>\n",
       "      <th>1880</th>\n",
       "      <td>z969</td>\n",
       "      <td>Naftisol</td>\n",
       "      <td>Male</td>\n",
       "      <td>9</td>\n",
       "      <td>30</td>\n",
       "      <td>35</td>\n",
       "      <td>69.176246</td>\n",
       "      <td>4</td>\n",
       "    </tr>\n",
       "    <tr>\n",
       "      <th>1881</th>\n",
       "      <td>z969</td>\n",
       "      <td>Naftisol</td>\n",
       "      <td>Male</td>\n",
       "      <td>9</td>\n",
       "      <td>30</td>\n",
       "      <td>40</td>\n",
       "      <td>70.314904</td>\n",
       "      <td>4</td>\n",
       "    </tr>\n",
       "    <tr>\n",
       "      <th>1882</th>\n",
       "      <td>z969</td>\n",
       "      <td>Naftisol</td>\n",
       "      <td>Male</td>\n",
       "      <td>9</td>\n",
       "      <td>30</td>\n",
       "      <td>45</td>\n",
       "      <td>73.867845</td>\n",
       "      <td>4</td>\n",
       "    </tr>\n",
       "  </tbody>\n",
       "</table>\n",
       "<p>1883 rows × 8 columns</p>\n",
       "</div>"
      ],
      "text/plain": [
       "     Mouse ID Drug Regimen   Sex  Age_months  Weight (g)  Timepoint  \\\n",
       "0        k403     Ramicane  Male          21          16          0   \n",
       "1        k403     Ramicane  Male          21          16          5   \n",
       "2        k403     Ramicane  Male          21          16         10   \n",
       "3        k403     Ramicane  Male          21          16         15   \n",
       "4        k403     Ramicane  Male          21          16         20   \n",
       "...       ...          ...   ...         ...         ...        ...   \n",
       "1878     z969     Naftisol  Male           9          30         25   \n",
       "1879     z969     Naftisol  Male           9          30         30   \n",
       "1880     z969     Naftisol  Male           9          30         35   \n",
       "1881     z969     Naftisol  Male           9          30         40   \n",
       "1882     z969     Naftisol  Male           9          30         45   \n",
       "\n",
       "      Tumor Volume (mm3)  Metastatic Sites  \n",
       "0              45.000000                 0  \n",
       "1              38.825898                 0  \n",
       "2              35.014271                 1  \n",
       "3              34.223992                 1  \n",
       "4              32.997729                 1  \n",
       "...                  ...               ...  \n",
       "1878           63.145652                 2  \n",
       "1879           65.841013                 3  \n",
       "1880           69.176246                 4  \n",
       "1881           70.314904                 4  \n",
       "1882           73.867845                 4  \n",
       "\n",
       "[1883 rows x 8 columns]"
      ]
     },
     "execution_count": 8,
     "metadata": {},
     "output_type": "execute_result"
    }
   ],
   "source": [
    "# Merge DataFrames \n",
    "merged_df = pd.merge(mouse_df, results_reduced_df, on=\"Mouse ID\", how=\"left\")\n",
    "merged_df"
   ]
  },
  {
   "cell_type": "code",
   "execution_count": 9,
   "id": "indie-booth",
   "metadata": {},
   "outputs": [],
   "source": [
    "#merged_df.to_csv(\"merged_df.csv\", header=True)"
   ]
  },
  {
   "cell_type": "code",
   "execution_count": 10,
   "id": "revised-laundry",
   "metadata": {},
   "outputs": [],
   "source": [
    "# Calculate mean of volume\n",
    "mean_volume_df = merged_df.groupby(\"Drug Regimen\").mean()\n",
    "\n",
    "# Reset the index\n",
    "mean_volume_df = mean_volume_df.reset_index()\n",
    "# Remove other columns\n",
    "mean_volume_df = mean_volume_df[[\"Drug Regimen\", \"Tumor Volume (mm3)\"]]\n",
    "# Rename column\n",
    "mean_volume_df = mean_volume_df.rename(columns={\"Tumor Volume (mm3)\": \"Mean Tumor Volume\"})\n",
    "\n",
    "#mean_volume_df"
   ]
  },
  {
   "cell_type": "code",
   "execution_count": 11,
   "id": "retained-affairs",
   "metadata": {},
   "outputs": [],
   "source": [
    "# Calculate the median of the volume\n",
    "median_volume_df = merged_df.groupby(\"Drug Regimen\").median()\n",
    "\n",
    "# Reset the index\n",
    "median_volume_df = median_volume_df.reset_index()\n",
    "# Remove other columns\n",
    "median_volume_df = median_volume_df[[\"Drug Regimen\", \"Tumor Volume (mm3)\"]]\n",
    "# Rename column\n",
    "median_volume_df = median_volume_df.rename(columns={\"Tumor Volume (mm3)\": \"Median Tumor Volume\"})\n",
    "\n",
    "#median_volume_df"
   ]
  },
  {
   "cell_type": "code",
   "execution_count": 12,
   "id": "equal-detroit",
   "metadata": {},
   "outputs": [],
   "source": [
    "# Calculate the variance of the volume\n",
    "variance_volume_df = merged_df.groupby(\"Drug Regimen\").var()\n",
    "\n",
    "# Reset the index\n",
    "variance_volume_df = variance_volume_df.reset_index()\n",
    "# Remove other columns\n",
    "variance_volume_df = variance_volume_df[[\"Drug Regimen\", \"Tumor Volume (mm3)\"]]\n",
    "# Rename column\n",
    "variance_volume_df = variance_volume_df.rename(columns={\"Tumor Volume (mm3)\": \"Tumor Volume Variance\"})\n",
    "\n",
    "#variance_volume_df"
   ]
  },
  {
   "cell_type": "code",
   "execution_count": 13,
   "id": "compact-outside",
   "metadata": {},
   "outputs": [],
   "source": [
    "# Calculate Standard Deviation\n",
    "std_volume_df = merged_df.groupby(\"Drug Regimen\").std()\n",
    "\n",
    "# Reset the index\n",
    "std_volume_df = std_volume_df.reset_index()\n",
    "# Remove other columns\n",
    "std_volume_df = std_volume_df[[\"Drug Regimen\", \"Tumor Volume (mm3)\"]]\n",
    "# Rename column\n",
    "std_volume_df = std_volume_df.rename(columns={\"Tumor Volume (mm3)\": \"StD Tumor Volume\"})\n",
    "\n",
    "#std_volume_df"
   ]
  },
  {
   "cell_type": "code",
   "execution_count": 14,
   "id": "crazy-loading",
   "metadata": {},
   "outputs": [],
   "source": [
    "# Calculate Standard Error of the Mean\n",
    "sem_volume_df = merged_df.groupby(\"Drug Regimen\").sem()\n",
    "\n",
    "# Reset the index\n",
    "sem_volume_df = sem_volume_df.reset_index()\n",
    "# Remove other columns\n",
    "sem_volume_df = sem_volume_df[[\"Drug Regimen\", \"Tumor Volume (mm3)\"]]\n",
    "# Rename column\n",
    "sem_volume_df = sem_volume_df.rename(columns={\"Tumor Volume (mm3)\": \"SEM Tumor Volume\"})\n",
    "\n",
    "#sem_volume_df"
   ]
  },
  {
   "cell_type": "code",
   "execution_count": 15,
   "id": "remarkable-merchant",
   "metadata": {},
   "outputs": [],
   "source": [
    "# Calculate Standard Error of the Mean\n",
    "sem_volume_df = merged_df.groupby(\"Drug Regimen\").sem()\n",
    "\n",
    "# Reset the index\n",
    "sem_volume_df = sem_volume_df.reset_index()\n",
    "# Remove other columns\n",
    "sem_volume_df = sem_volume_df[[\"Drug Regimen\", \"Tumor Volume (mm3)\"]]\n",
    "# Rename column\n",
    "sem_volume_df = sem_volume_df.rename(columns={\"Tumor Volume (mm3)\": \"SEM Tumor Volume\"})\n",
    "\n",
    "#sem_volume_df"
   ]
  },
  {
   "cell_type": "code",
   "execution_count": 16,
   "id": "experienced-massage",
   "metadata": {},
   "outputs": [],
   "source": [
    "# Merge tables on drug regimen (mean & median)\n",
    "mean_median = pd.merge(mean_volume_df, median_volume_df, on=\"Drug Regimen\")\n",
    "#mean_median"
   ]
  },
  {
   "cell_type": "code",
   "execution_count": 17,
   "id": "careful-compatibility",
   "metadata": {},
   "outputs": [],
   "source": [
    "# Merge tables on drug regimen (variance & standard deviation)\n",
    "variance_std = pd.merge(variance_volume_df, std_volume_df, on=\"Drug Regimen\")\n",
    "#variance_std"
   ]
  },
  {
   "cell_type": "code",
   "execution_count": 18,
   "id": "universal-sequence",
   "metadata": {},
   "outputs": [],
   "source": [
    "# Merge tables on drug regimen (missing SEM)\n",
    "summary_stats_0 = pd.merge(mean_median, variance_std, on=\"Drug Regimen\")\n",
    "#summary_stats_0"
   ]
  },
  {
   "cell_type": "markdown",
   "id": "geological-entertainment",
   "metadata": {},
   "source": [
    "# Summary Statistics:"
   ]
  },
  {
   "cell_type": "code",
   "execution_count": 19,
   "id": "measured-wyoming",
   "metadata": {},
   "outputs": [
    {
     "data": {
      "text/html": [
       "<div>\n",
       "<style scoped>\n",
       "    .dataframe tbody tr th:only-of-type {\n",
       "        vertical-align: middle;\n",
       "    }\n",
       "\n",
       "    .dataframe tbody tr th {\n",
       "        vertical-align: top;\n",
       "    }\n",
       "\n",
       "    .dataframe thead th {\n",
       "        text-align: right;\n",
       "    }\n",
       "</style>\n",
       "<table border=\"1\" class=\"dataframe\">\n",
       "  <thead>\n",
       "    <tr style=\"text-align: right;\">\n",
       "      <th></th>\n",
       "      <th>Drug Regimen</th>\n",
       "      <th>Mean Tumor Volume</th>\n",
       "      <th>Median Tumor Volume</th>\n",
       "      <th>Tumor Volume Variance</th>\n",
       "      <th>StD Tumor Volume</th>\n",
       "      <th>SEM Tumor Volume</th>\n",
       "    </tr>\n",
       "  </thead>\n",
       "  <tbody>\n",
       "    <tr>\n",
       "      <th>0</th>\n",
       "      <td>Capomulin</td>\n",
       "      <td>40.675741</td>\n",
       "      <td>41.557809</td>\n",
       "      <td>24.947764</td>\n",
       "      <td>4.994774</td>\n",
       "      <td>0.329346</td>\n",
       "    </tr>\n",
       "    <tr>\n",
       "      <th>1</th>\n",
       "      <td>Ceftamin</td>\n",
       "      <td>52.591172</td>\n",
       "      <td>51.776157</td>\n",
       "      <td>39.290177</td>\n",
       "      <td>6.268188</td>\n",
       "      <td>0.469821</td>\n",
       "    </tr>\n",
       "    <tr>\n",
       "      <th>2</th>\n",
       "      <td>Infubinol</td>\n",
       "      <td>52.884795</td>\n",
       "      <td>51.820584</td>\n",
       "      <td>43.128684</td>\n",
       "      <td>6.567243</td>\n",
       "      <td>0.492236</td>\n",
       "    </tr>\n",
       "    <tr>\n",
       "      <th>3</th>\n",
       "      <td>Ketapril</td>\n",
       "      <td>55.235638</td>\n",
       "      <td>53.698743</td>\n",
       "      <td>68.553577</td>\n",
       "      <td>8.279709</td>\n",
       "      <td>0.603860</td>\n",
       "    </tr>\n",
       "    <tr>\n",
       "      <th>4</th>\n",
       "      <td>Naftisol</td>\n",
       "      <td>54.331565</td>\n",
       "      <td>52.509285</td>\n",
       "      <td>66.173479</td>\n",
       "      <td>8.134708</td>\n",
       "      <td>0.596466</td>\n",
       "    </tr>\n",
       "    <tr>\n",
       "      <th>5</th>\n",
       "      <td>Placebo</td>\n",
       "      <td>54.033581</td>\n",
       "      <td>52.288934</td>\n",
       "      <td>61.168083</td>\n",
       "      <td>7.821003</td>\n",
       "      <td>0.581331</td>\n",
       "    </tr>\n",
       "    <tr>\n",
       "      <th>6</th>\n",
       "      <td>Propriva</td>\n",
       "      <td>52.458254</td>\n",
       "      <td>50.854632</td>\n",
       "      <td>44.053659</td>\n",
       "      <td>6.637293</td>\n",
       "      <td>0.540135</td>\n",
       "    </tr>\n",
       "    <tr>\n",
       "      <th>7</th>\n",
       "      <td>Ramicane</td>\n",
       "      <td>40.216745</td>\n",
       "      <td>40.673236</td>\n",
       "      <td>23.486704</td>\n",
       "      <td>4.846308</td>\n",
       "      <td>0.320955</td>\n",
       "    </tr>\n",
       "    <tr>\n",
       "      <th>8</th>\n",
       "      <td>Stelasyn</td>\n",
       "      <td>54.233149</td>\n",
       "      <td>52.431737</td>\n",
       "      <td>59.450562</td>\n",
       "      <td>7.710419</td>\n",
       "      <td>0.573111</td>\n",
       "    </tr>\n",
       "    <tr>\n",
       "      <th>9</th>\n",
       "      <td>Zoniferol</td>\n",
       "      <td>53.236507</td>\n",
       "      <td>51.818479</td>\n",
       "      <td>48.533355</td>\n",
       "      <td>6.966589</td>\n",
       "      <td>0.516398</td>\n",
       "    </tr>\n",
       "  </tbody>\n",
       "</table>\n",
       "</div>"
      ],
      "text/plain": [
       "  Drug Regimen  Mean Tumor Volume  Median Tumor Volume  Tumor Volume Variance  \\\n",
       "0    Capomulin          40.675741            41.557809              24.947764   \n",
       "1     Ceftamin          52.591172            51.776157              39.290177   \n",
       "2    Infubinol          52.884795            51.820584              43.128684   \n",
       "3     Ketapril          55.235638            53.698743              68.553577   \n",
       "4     Naftisol          54.331565            52.509285              66.173479   \n",
       "5      Placebo          54.033581            52.288934              61.168083   \n",
       "6     Propriva          52.458254            50.854632              44.053659   \n",
       "7     Ramicane          40.216745            40.673236              23.486704   \n",
       "8     Stelasyn          54.233149            52.431737              59.450562   \n",
       "9    Zoniferol          53.236507            51.818479              48.533355   \n",
       "\n",
       "   StD Tumor Volume  SEM Tumor Volume  \n",
       "0          4.994774          0.329346  \n",
       "1          6.268188          0.469821  \n",
       "2          6.567243          0.492236  \n",
       "3          8.279709          0.603860  \n",
       "4          8.134708          0.596466  \n",
       "5          7.821003          0.581331  \n",
       "6          6.637293          0.540135  \n",
       "7          4.846308          0.320955  \n",
       "8          7.710419          0.573111  \n",
       "9          6.966589          0.516398  "
      ]
     },
     "execution_count": 19,
     "metadata": {},
     "output_type": "execute_result"
    }
   ],
   "source": [
    "# Merge tables on drug regimen (all stats)\n",
    "summary_stats_df = pd.merge(summary_stats_0, sem_volume_df, on=\"Drug Regimen\")\n",
    "summary_stats_df"
   ]
  },
  {
   "cell_type": "code",
   "execution_count": 20,
   "id": "criminal-motivation",
   "metadata": {},
   "outputs": [],
   "source": [
    "# Aggregation Method\n",
    "#summary_stats_df.aggregate(func=\"mean\")"
   ]
  },
  {
   "cell_type": "code",
   "execution_count": 21,
   "id": "false-lotus",
   "metadata": {},
   "outputs": [],
   "source": [
    "# Create drug regimen dataframe \n",
    "drug_reg_df = merged_df[[\"Mouse ID\", \"Drug Regimen\"]]"
   ]
  },
  {
   "cell_type": "code",
   "execution_count": 22,
   "id": "domestic-squad",
   "metadata": {},
   "outputs": [
    {
     "data": {
      "text/html": [
       "<div>\n",
       "<style scoped>\n",
       "    .dataframe tbody tr th:only-of-type {\n",
       "        vertical-align: middle;\n",
       "    }\n",
       "\n",
       "    .dataframe tbody tr th {\n",
       "        vertical-align: top;\n",
       "    }\n",
       "\n",
       "    .dataframe thead th {\n",
       "        text-align: right;\n",
       "    }\n",
       "</style>\n",
       "<table border=\"1\" class=\"dataframe\">\n",
       "  <thead>\n",
       "    <tr style=\"text-align: right;\">\n",
       "      <th></th>\n",
       "      <th>Drug Regimen</th>\n",
       "      <th>Total Measurements</th>\n",
       "    </tr>\n",
       "  </thead>\n",
       "  <tbody>\n",
       "    <tr>\n",
       "      <th>0</th>\n",
       "      <td>Capomulin</td>\n",
       "      <td>230</td>\n",
       "    </tr>\n",
       "    <tr>\n",
       "      <th>1</th>\n",
       "      <td>Ceftamin</td>\n",
       "      <td>178</td>\n",
       "    </tr>\n",
       "    <tr>\n",
       "      <th>2</th>\n",
       "      <td>Infubinol</td>\n",
       "      <td>178</td>\n",
       "    </tr>\n",
       "    <tr>\n",
       "      <th>3</th>\n",
       "      <td>Ketapril</td>\n",
       "      <td>188</td>\n",
       "    </tr>\n",
       "    <tr>\n",
       "      <th>4</th>\n",
       "      <td>Naftisol</td>\n",
       "      <td>186</td>\n",
       "    </tr>\n",
       "    <tr>\n",
       "      <th>5</th>\n",
       "      <td>Placebo</td>\n",
       "      <td>181</td>\n",
       "    </tr>\n",
       "    <tr>\n",
       "      <th>6</th>\n",
       "      <td>Propriva</td>\n",
       "      <td>151</td>\n",
       "    </tr>\n",
       "    <tr>\n",
       "      <th>7</th>\n",
       "      <td>Ramicane</td>\n",
       "      <td>228</td>\n",
       "    </tr>\n",
       "    <tr>\n",
       "      <th>8</th>\n",
       "      <td>Stelasyn</td>\n",
       "      <td>181</td>\n",
       "    </tr>\n",
       "    <tr>\n",
       "      <th>9</th>\n",
       "      <td>Zoniferol</td>\n",
       "      <td>182</td>\n",
       "    </tr>\n",
       "  </tbody>\n",
       "</table>\n",
       "</div>"
      ],
      "text/plain": [
       "  Drug Regimen  Total Measurements\n",
       "0    Capomulin                 230\n",
       "1     Ceftamin                 178\n",
       "2    Infubinol                 178\n",
       "3     Ketapril                 188\n",
       "4     Naftisol                 186\n",
       "5      Placebo                 181\n",
       "6     Propriva                 151\n",
       "7     Ramicane                 228\n",
       "8     Stelasyn                 181\n",
       "9    Zoniferol                 182"
      ]
     },
     "execution_count": 22,
     "metadata": {},
     "output_type": "execute_result"
    }
   ],
   "source": [
    "# Create a groupby for the total number of measurements taken per regimen\n",
    "drug_reg_groupby = drug_reg_df.groupby(\"Drug Regimen\").count()\n",
    "drug_reg_groupby = drug_reg_groupby.reset_index()\n",
    "drug_reg_groupby = drug_reg_groupby.rename(columns={\"Mouse ID\": \"Total Measurements\"})\n",
    "\n",
    "drug_reg_groupby"
   ]
  },
  {
   "cell_type": "code",
   "execution_count": 23,
   "id": "julian-xerox",
   "metadata": {},
   "outputs": [],
   "source": [
    "measurements = []\n",
    "labels = []\n",
    "\n",
    "for x in drug_reg_groupby[\"Total Measurements\"]:\n",
    "    measurements.append(x)\n",
    "for x in drug_reg_groupby[\"Drug Regimen\"]:\n",
    "    labels.append(x)"
   ]
  },
  {
   "cell_type": "markdown",
   "id": "solar-transcription",
   "metadata": {},
   "source": [
    "# Bar Charts:"
   ]
  },
  {
   "cell_type": "markdown",
   "id": "prescribed-sensitivity",
   "metadata": {},
   "source": [
    "## Plotly"
   ]
  },
  {
   "cell_type": "code",
   "execution_count": 24,
   "id": "instant-forty",
   "metadata": {},
   "outputs": [
    {
     "data": {
      "image/png": "[encoded data removed]",
      "text/plain": [
       "<Figure size 432x288 with 1 Axes>"
      ]
     },
     "metadata": {
      "needs_background": "light"
     },
     "output_type": "display_data"
    }
   ],
   "source": [
    "# Plotly Bar Chart\n",
    "plt.bar(labels, measurements, align=\"center\")\n",
    "\n",
    "tick_locations = [value for value in range(0,10)]\n",
    "plt.xticks(ticks=tick_locations, labels=labels, rotation=45)\n",
    "plt.title(\"Total Number of Measurements per Drug Regimen\")\n",
    "plt.xlabel(\"Drug Regimen\")\n",
    "plt.ylabel(\"Number of Measurements\")\n",
    "plt.grid(axis='y')\n",
    "plt.ylim=[0,245]\n",
    "\n",
    "plt.show()"
   ]
  },
  {
   "cell_type": "markdown",
   "id": "homeless-cancellation",
   "metadata": {},
   "source": [
    "## Pandas"
   ]
  },
  {
   "cell_type": "code",
   "execution_count": 25,
   "id": "color-logan",
   "metadata": {},
   "outputs": [
    {
     "data": {
      "image/png": "[encoded data removed]",
      "text/plain": [
       "<Figure size 432x288 with 1 Axes>"
      ]
     },
     "metadata": {
      "needs_background": "light"
     },
     "output_type": "display_data"
    }
   ],
   "source": [
    "# Pandas Bar Chart\n",
    "drug_reg_groupby.plot(kind='bar', legend=False, title=\"Total Number of Measurements per Drug Regimen\",\n",
    "                        rot='45', ylim=[0,245], width=0.75)\n",
    "\n",
    "tick_locations = [value for value in range(0,10)]\n",
    "plt.xticks(ticks=tick_locations, labels=labels)\n",
    "plt.xlabel(\"Drug Regimen\")\n",
    "plt.ylabel(\"Number of Measurements\")\n",
    "plt.grid(axis='y')\n",
    "\n",
    "plt.show()"
   ]
  },
  {
   "cell_type": "code",
   "execution_count": 26,
   "id": "statistical-frame",
   "metadata": {},
   "outputs": [],
   "source": [
    "# Create gender dataframe\n",
    "gender_df = merged_df[[\"Mouse ID\", \"Sex\"]]"
   ]
  },
  {
   "cell_type": "code",
   "execution_count": 27,
   "id": "divine-david",
   "metadata": {},
   "outputs": [
    {
     "data": {
      "text/html": [
       "<div>\n",
       "<style scoped>\n",
       "    .dataframe tbody tr th:only-of-type {\n",
       "        vertical-align: middle;\n",
       "    }\n",
       "\n",
       "    .dataframe tbody tr th {\n",
       "        vertical-align: top;\n",
       "    }\n",
       "\n",
       "    .dataframe thead th {\n",
       "        text-align: right;\n",
       "    }\n",
       "</style>\n",
       "<table border=\"1\" class=\"dataframe\">\n",
       "  <thead>\n",
       "    <tr style=\"text-align: right;\">\n",
       "      <th></th>\n",
       "      <th>Sex</th>\n",
       "      <th>Mouse ID</th>\n",
       "    </tr>\n",
       "  </thead>\n",
       "  <tbody>\n",
       "    <tr>\n",
       "      <th>0</th>\n",
       "      <td>Female</td>\n",
       "      <td>925</td>\n",
       "    </tr>\n",
       "    <tr>\n",
       "      <th>1</th>\n",
       "      <td>Male</td>\n",
       "      <td>958</td>\n",
       "    </tr>\n",
       "  </tbody>\n",
       "</table>\n",
       "</div>"
      ],
      "text/plain": [
       "      Sex  Mouse ID\n",
       "0  Female       925\n",
       "1    Male       958"
      ]
     },
     "execution_count": 27,
     "metadata": {},
     "output_type": "execute_result"
    }
   ],
   "source": [
    "# Create groupby dataframe for pie plots\n",
    "gender_groupby = gender_df.groupby(\"Sex\").count()\n",
    "# Reset index\n",
    "gender_groupby = gender_groupby.reset_index()\n",
    "gender_groupby.head()"
   ]
  },
  {
   "cell_type": "markdown",
   "id": "baking-strip",
   "metadata": {},
   "source": [
    "# Pie Charts:"
   ]
  },
  {
   "cell_type": "markdown",
   "id": "unlikely-battle",
   "metadata": {},
   "source": [
    "## Pyplot"
   ]
  },
  {
   "cell_type": "code",
   "execution_count": 28,
   "id": "warming-aaron",
   "metadata": {},
   "outputs": [
    {
     "data": {
      "text/plain": [
       "<matplotlib.legend.Legend at 0x7f9b6817f1d0>"
      ]
     },
     "execution_count": 28,
     "metadata": {},
     "output_type": "execute_result"
    },
    {
     "data": {
      "image/png": "[encoded data removed]",
      "text/plain": [
       "<Figure size 432x288 with 1 Axes>"
      ]
     },
     "metadata": {},
     "output_type": "display_data"
    }
   ],
   "source": [
    "# Pyplot Pie chart\n",
    "colors = [\"coral\", \"mediumaquamarine\"]\n",
    "labels = [\"Female\", \"Male\"]\n",
    "sizes = []\n",
    "explode = [0.05, 0]\n",
    "\n",
    "# Append numbers to sizes\n",
    "for x in gender_groupby[\"Mouse ID\"]:\n",
    "    sizes.append(x)\n",
    "\n",
    "plt.pie(sizes, colors=colors, labels=labels, explode=explode, startangle=45, autopct=\"%1.1f%%\")\n",
    "plt.title(\"Gender Breakdown of Mice\")\n",
    "plt.ylabel(\"Mice\")\n",
    "plt.legend(loc=\"best\")"
   ]
  },
  {
   "cell_type": "markdown",
   "id": "infrared-better",
   "metadata": {},
   "source": [
    "## Pandas"
   ]
  },
  {
   "cell_type": "code",
   "execution_count": 29,
   "id": "identified-egypt",
   "metadata": {},
   "outputs": [
    {
     "data": {
      "image/png": "[encoded data removed]",
      "text/plain": [
       "<Figure size 432x288 with 1 Axes>"
      ]
     },
     "metadata": {},
     "output_type": "display_data"
    }
   ],
   "source": [
    "# Pandas Pie chart\n",
    "colors = [\"coral\", \"mediumaquamarine\"]\n",
    "gender_pie = gender_groupby.plot(kind=\"pie\", y=\"Mouse ID\", labels=gender_groupby[\"Sex\"], startangle=45, \n",
    "                                 autopct=\"%1.1f%%\", colors=colors, title=\"Gender Breakdown of Mice\", explode=[0.05,0])\n",
    "gender_pie.set_ylabel(\"Mice\")\n",
    "plt.axis(\"equal\")\n",
    "plt.show()"
   ]
  },
  {
   "cell_type": "markdown",
   "id": "impaired-bulletin",
   "metadata": {},
   "source": [
    "## Four Most Promising Treatment Regimens:"
   ]
  },
  {
   "cell_type": "markdown",
   "id": "technological-median",
   "metadata": {},
   "source": [
    "### - Capomulin\n",
    "### - Ramicane\n",
    "### - Infubinol\n",
    "### - Ceftamin"
   ]
  },
  {
   "cell_type": "code",
   "execution_count": 30,
   "id": "macro-spectacular",
   "metadata": {},
   "outputs": [
    {
     "data": {
      "text/html": [
       "<div>\n",
       "<style scoped>\n",
       "    .dataframe tbody tr th:only-of-type {\n",
       "        vertical-align: middle;\n",
       "    }\n",
       "\n",
       "    .dataframe tbody tr th {\n",
       "        vertical-align: top;\n",
       "    }\n",
       "\n",
       "    .dataframe thead th {\n",
       "        text-align: right;\n",
       "    }\n",
       "</style>\n",
       "<table border=\"1\" class=\"dataframe\">\n",
       "  <thead>\n",
       "    <tr style=\"text-align: right;\">\n",
       "      <th></th>\n",
       "      <th>Mouse ID</th>\n",
       "      <th>Drug Regimen</th>\n",
       "      <th>Tumor Volume (mm3)</th>\n",
       "      <th>Timepoint</th>\n",
       "    </tr>\n",
       "  </thead>\n",
       "  <tbody>\n",
       "    <tr>\n",
       "      <th>0</th>\n",
       "      <td>k403</td>\n",
       "      <td>Ramicane</td>\n",
       "      <td>45.000000</td>\n",
       "      <td>0</td>\n",
       "    </tr>\n",
       "    <tr>\n",
       "      <th>1</th>\n",
       "      <td>k403</td>\n",
       "      <td>Ramicane</td>\n",
       "      <td>38.825898</td>\n",
       "      <td>5</td>\n",
       "    </tr>\n",
       "    <tr>\n",
       "      <th>2</th>\n",
       "      <td>k403</td>\n",
       "      <td>Ramicane</td>\n",
       "      <td>35.014271</td>\n",
       "      <td>10</td>\n",
       "    </tr>\n",
       "    <tr>\n",
       "      <th>3</th>\n",
       "      <td>k403</td>\n",
       "      <td>Ramicane</td>\n",
       "      <td>34.223992</td>\n",
       "      <td>15</td>\n",
       "    </tr>\n",
       "    <tr>\n",
       "      <th>4</th>\n",
       "      <td>k403</td>\n",
       "      <td>Ramicane</td>\n",
       "      <td>32.997729</td>\n",
       "      <td>20</td>\n",
       "    </tr>\n",
       "    <tr>\n",
       "      <th>...</th>\n",
       "      <td>...</td>\n",
       "      <td>...</td>\n",
       "      <td>...</td>\n",
       "      <td>...</td>\n",
       "    </tr>\n",
       "    <tr>\n",
       "      <th>809</th>\n",
       "      <td>z581</td>\n",
       "      <td>Infubinol</td>\n",
       "      <td>54.316407</td>\n",
       "      <td>25</td>\n",
       "    </tr>\n",
       "    <tr>\n",
       "      <th>810</th>\n",
       "      <td>z581</td>\n",
       "      <td>Infubinol</td>\n",
       "      <td>56.286750</td>\n",
       "      <td>30</td>\n",
       "    </tr>\n",
       "    <tr>\n",
       "      <th>811</th>\n",
       "      <td>z581</td>\n",
       "      <td>Infubinol</td>\n",
       "      <td>58.628399</td>\n",
       "      <td>35</td>\n",
       "    </tr>\n",
       "    <tr>\n",
       "      <th>812</th>\n",
       "      <td>z581</td>\n",
       "      <td>Infubinol</td>\n",
       "      <td>60.053740</td>\n",
       "      <td>40</td>\n",
       "    </tr>\n",
       "    <tr>\n",
       "      <th>813</th>\n",
       "      <td>z581</td>\n",
       "      <td>Infubinol</td>\n",
       "      <td>62.754451</td>\n",
       "      <td>45</td>\n",
       "    </tr>\n",
       "  </tbody>\n",
       "</table>\n",
       "<p>814 rows × 4 columns</p>\n",
       "</div>"
      ],
      "text/plain": [
       "    Mouse ID Drug Regimen  Tumor Volume (mm3)  Timepoint\n",
       "0       k403     Ramicane           45.000000          0\n",
       "1       k403     Ramicane           38.825898          5\n",
       "2       k403     Ramicane           35.014271         10\n",
       "3       k403     Ramicane           34.223992         15\n",
       "4       k403     Ramicane           32.997729         20\n",
       "..       ...          ...                 ...        ...\n",
       "809     z581    Infubinol           54.316407         25\n",
       "810     z581    Infubinol           56.286750         30\n",
       "811     z581    Infubinol           58.628399         35\n",
       "812     z581    Infubinol           60.053740         40\n",
       "813     z581    Infubinol           62.754451         45\n",
       "\n",
       "[814 rows x 4 columns]"
      ]
     },
     "execution_count": 30,
     "metadata": {},
     "output_type": "execute_result"
    }
   ],
   "source": [
    "# Find 4 promising regimens and isolate into a dataframe\n",
    "promising_regimens = merged_df.loc[(merged_df[\"Drug Regimen\"] == \"Capomulin\") | (merged_df[\"Drug Regimen\"] == \"Ramicane\") |\n",
    "                                   (merged_df[\"Drug Regimen\"] == \"Infubinol\") | (merged_df[\"Drug Regimen\"] == \"Ceftamin\"), :]\n",
    "# Reset the index\n",
    "promising_regimens = promising_regimens.reset_index(drop=True)\n",
    "\n",
    "# Remove other columns\n",
    "promising_regimens = promising_regimens[[\"Mouse ID\", \"Drug Regimen\", \"Tumor Volume (mm3)\", \"Timepoint\"]]\n",
    "\n",
    "promising_regimens"
   ]
  },
  {
   "cell_type": "code",
   "execution_count": 31,
   "id": "cardiovascular-tenant",
   "metadata": {},
   "outputs": [],
   "source": [
    "# Isolate the final timepoint (45) & Capomulin drug\n",
    "capomulin = promising_regimens.loc[(promising_regimens[\"Timepoint\"] == 45) & (promising_regimens[\"Drug Regimen\"] == \"Capomulin\"),:]\n",
    "\n",
    "# Reset index\n",
    "capomulin = capomulin.reset_index(drop=True)\n",
    "\n",
    "# Create series for volume\n",
    "capomulin_vol = capomulin[\"Tumor Volume (mm3)\"]"
   ]
  },
  {
   "cell_type": "code",
   "execution_count": 32,
   "id": "common-shanghai",
   "metadata": {},
   "outputs": [],
   "source": [
    "# Isolate the final timepoint (45) & ramicane drug\n",
    "ramicane = promising_regimens.loc[(promising_regimens[\"Timepoint\"] == 45) & (promising_regimens[\"Drug Regimen\"] == \"Ramicane\"),:]\n",
    "\n",
    "# Reset index\n",
    "ramicane = ramicane.reset_index(drop=True)\n",
    "\n",
    "# Create series for volume\n",
    "ramicane_vol = ramicane[\"Tumor Volume (mm3)\"]"
   ]
  },
  {
   "cell_type": "code",
   "execution_count": 33,
   "id": "intended-opposition",
   "metadata": {},
   "outputs": [],
   "source": [
    "# Isolate the final timepoint (45) & infubinol drug\n",
    "infubinol = promising_regimens.loc[(promising_regimens[\"Timepoint\"] == 45) & (promising_regimens[\"Drug Regimen\"] == \"Infubinol\"),:]\n",
    "\n",
    "# Reset index\n",
    "infubinol = infubinol.reset_index(drop=True)\n",
    "\n",
    "# Create series for volume\n",
    "infubinol_vol = infubinol[\"Tumor Volume (mm3)\"]"
   ]
  },
  {
   "cell_type": "code",
   "execution_count": 34,
   "id": "eleven-installation",
   "metadata": {},
   "outputs": [],
   "source": [
    "# Isolate the final timepoint (45) & ceftamin drug\n",
    "ceftamin = promising_regimens.loc[(promising_regimens[\"Timepoint\"] == 45) & (promising_regimens[\"Drug Regimen\"] == \"Ceftamin\"),:]\n",
    "\n",
    "# Reset index\n",
    "ceftamin = ceftamin.reset_index(drop=True)\n",
    "\n",
    "# Create series for volume\n",
    "ceftamin_vol = ceftamin[\"Tumor Volume (mm3)\"]"
   ]
  },
  {
   "cell_type": "code",
   "execution_count": 37,
   "id": "acceptable-serum",
   "metadata": {},
   "outputs": [],
   "source": [
    "# Create quartiles & IQR: Capomulin\n",
    "quartiles_cap = capomulin_vol.quantile([.25,.5,.75])\n",
    "lowerq_cap = quartiles_cap[.25]\n",
    "upperq_cap = quartiles_cap[.75]\n",
    "iqr_cap = upperq_cap-lowerq_cap\n",
    "\n"
   ]
  },
  {
   "cell_type": "code",
   "execution_count": 38,
   "id": "arabic-beast",
   "metadata": {},
   "outputs": [],
   "source": [
    "# Create quartiles & IQR: ramicane\n",
    "quartiles_ram = ramicane_vol.quantile([.25,.5,.75])\n",
    "lowerq_ram = quartiles_ram[.25]\n",
    "upperq_ram = quartiles_ram[.75]\n",
    "iqr_ram = upperq_ram-lowerq_ram"
   ]
  },
  {
   "cell_type": "code",
   "execution_count": 39,
   "id": "seeing-volunteer",
   "metadata": {},
   "outputs": [],
   "source": [
    "# Create quartiles & IQR: infubinol\n",
    "quartiles_inf = infubinol_vol.quantile([.25,.5,.75])\n",
    "lowerq_inf = quartiles_inf[.25]\n",
    "upperq_inf = quartiles_inf[.75]\n",
    "iqr_inf = upperq_inf-lowerq_inf"
   ]
  },
  {
   "cell_type": "code",
   "execution_count": 40,
   "id": "behind-bouquet",
   "metadata": {},
   "outputs": [],
   "source": [
    "# Create quartiles & IQR: ceftamin\n",
    "quartiles_ceft = ceftamin_vol.quantile([.25,.5,.75])\n",
    "lowerq_ceft = quartiles_ceft[.25]\n",
    "upperq_ceft = quartiles_ceft[.75]\n",
    "iqr_ceft = upperq_ceft-lowerq_ceft"
   ]
  },
  {
   "cell_type": "code",
   "execution_count": 41,
   "id": "collaborative-table",
   "metadata": {},
   "outputs": [],
   "source": [
    "#Calculate the final tumor volume of each mouse across four of the most promising treatment regimens: \n",
    "#Capomulin, Ramicane, Infubinol, and Ceftamin. \n",
    "#Calculate the quartiles and IQR and quantitatively determine if there are any potential outliers \n",
    "#across all four treatment regimens."
   ]
  },
  {
   "cell_type": "markdown",
   "id": "touched-juvenile",
   "metadata": {},
   "source": [
    "## Capomulin"
   ]
  },
  {
   "cell_type": "code",
   "execution_count": 42,
   "id": "designed-blogger",
   "metadata": {},
   "outputs": [
    {
     "data": {
      "image/png": "[encoded data removed]",
      "text/plain": [
       "<Figure size 432x288 with 1 Axes>"
      ]
     },
     "metadata": {
      "needs_background": "light"
     },
     "output_type": "display_data"
    }
   ],
   "source": [
    "# Create boxplot using matplotlib: Capomulin\n",
    "fig1, ax1 = plt.subplots()\n",
    "ax1.set_title(\"Final Tumor Volumes: Capomulin\")\n",
    "ax1.set_ylabel(\"Volume (mm3)\")\n",
    "ax1.boxplot(capomulin_vol)\n",
    "plt.show()"
   ]
  },
  {
   "cell_type": "markdown",
   "id": "arbitrary-professor",
   "metadata": {},
   "source": [
    "## Ramicane"
   ]
  },
  {
   "cell_type": "code",
   "execution_count": 43,
   "id": "fatty-mainstream",
   "metadata": {},
   "outputs": [
    {
     "data": {
      "image/png": "[encoded data removed]",
      "text/plain": [
       "<Figure size 432x288 with 1 Axes>"
      ]
     },
     "metadata": {
      "needs_background": "light"
     },
     "output_type": "display_data"
    }
   ],
   "source": [
    "# Create boxplot using matplotlib: Ramicane\n",
    "fig1, ax1 = plt.subplots()\n",
    "ax1.set_title(\"Final Tumor Volumes: Ramicane\")\n",
    "ax1.set_ylabel(\"Volume (mm3)\")\n",
    "ax1.boxplot(ramicane_vol)\n",
    "plt.show()"
   ]
  },
  {
   "cell_type": "markdown",
   "id": "disciplinary-finder",
   "metadata": {},
   "source": [
    "## Infubinol"
   ]
  },
  {
   "cell_type": "code",
   "execution_count": 46,
   "id": "differential-niger",
   "metadata": {},
   "outputs": [
    {
     "data": {
      "image/png": "[encoded data removed]",
      "text/plain": [
       "<Figure size 432x288 with 1 Axes>"
      ]
     },
     "metadata": {
      "needs_background": "light"
     },
     "output_type": "display_data"
    }
   ],
   "source": [
    "# Create boxplot using matplotlib: Infubinol\n",
    "fig1, ax1 = plt.subplots()\n",
    "ax1.set_title(\"Final Tumor Volumes: Infubinol\")\n",
    "ax1.set_ylabel(\"Volume (mm3)\")\n",
    "ax1.boxplot(infubinol_vol)\n",
    "plt.show()"
   ]
  },
  {
   "cell_type": "markdown",
   "id": "meaning-burton",
   "metadata": {},
   "source": [
    "## Ceftamin"
   ]
  },
  {
   "cell_type": "code",
   "execution_count": 45,
   "id": "convinced-mouse",
   "metadata": {},
   "outputs": [
    {
     "data": {
      "image/png": "[encoded data removed]",
      "text/plain": [
       "<Figure size 432x288 with 1 Axes>"
      ]
     },
     "metadata": {
      "needs_background": "light"
     },
     "output_type": "display_data"
    }
   ],
   "source": [
    "# Create boxplot using matplotlib: Ceftamin\n",
    "fig1, ax1 = plt.subplots()\n",
    "ax1.set_title(\"Final Tumor Volumes: Ceftamin\")\n",
    "ax1.set_ylabel(\"Volume (mm3)\")\n",
    "ax1.boxplot(ceftamin_vol)\n",
    "plt.show()"
   ]
  },
  {
   "cell_type": "code",
   "execution_count": null,
   "id": "lyric-manhattan",
   "metadata": {},
   "outputs": [],
   "source": []
  },
  {
   "cell_type": "code",
   "execution_count": null,
   "id": "precious-acceptance",
   "metadata": {},
   "outputs": [],
   "source": []
  }
 ],
 "metadata": {
  "kernelspec": {
   "display_name": "Python [conda env:PythonData] *",
   "language": "python",
   "name": "conda-env-PythonData-py"
  },
  "language_info": {
   "codemirror_mode": {
    "name": "ipython",
    "version": 3
   },
   "file_extension": ".py",
   "mimetype": "text/x-python",
   "name": "python",
   "nbconvert_exporter": "python",
   "pygments_lexer": "ipython3",
   "version": "3.6.10"
  }
 },
 "nbformat": 4,
 "nbformat_minor": 5
}
