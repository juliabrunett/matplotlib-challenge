{
 "cells": [
  {
   "cell_type": "markdown",
   "id": "prerequisite-survey",
   "metadata": {},
   "source": [
    "# Observations:\n"
   ]
  },
  {
   "cell_type": "markdown",
   "id": "indoor-bonus",
   "metadata": {},
   "source": [
    "- *Total Number of Measurements per Drug Regimen*: Capomulin and Ramicane both have the most number of measurements taken during the drug trial.\n",
    "> In the *Summary Statistics*, Capomulin and Ramicane both have the lowest mean, median, variance, standard deviation, and standard error of the mean compared to the other treatment regimens.\n",
    "- *Average Tumor Volume vs. Mouse Weight*: The correlation coefficient between Average Tumor Volume and Mouse Weight is 0.95, which is significant because it is close to 1.\n",
    "- *Gender Breakdown of Mice*: There is a pretty even split between male & female mice that were studied.\n",
    "> 50.9% were Male & 49.1% were Female\n"
   ]
  },
  {
   "cell_type": "markdown",
   "id": "national-german",
   "metadata": {},
   "source": []
  },
  {
   "cell_type": "code",
   "execution_count": 1,
   "id": "incredible-fitness",
   "metadata": {},
   "outputs": [],
   "source": [
    "#%matplotlib notebook"
   ]
  },
  {
   "cell_type": "code",
   "execution_count": 2,
   "id": "corrected-crime",
   "metadata": {},
   "outputs": [],
   "source": [
    "# Import dependencies\n",
    "import pandas as pd\n",
    "import numpy as np\n",
    "import matplotlib.pyplot as plt\n",
    "import scipy.stats as sts\n",
    "from scipy.stats import sem\n",
    "from scipy.stats import linregress"
   ]
  },
  {
   "cell_type": "code",
   "execution_count": 3,
   "id": "local-method",
   "metadata": {},
   "outputs": [],
   "source": [
    "# Read in files to two DataFrames\n",
    "mouse_df = pd.read_csv(\"../Resources/Mouse_metadata.csv\", encoding=\"utf8\")\n",
    "results_df = pd.read_csv(\"../Resources/Study_results.csv\", encoding=\"utf8\")"
   ]
  },
  {
   "cell_type": "code",
   "execution_count": 4,
   "id": "alpha-review",
   "metadata": {},
   "outputs": [
    {
     "name": "stdout",
     "output_type": "stream",
     "text": [
      "There are 249 rows.\n"
     ]
    },
    {
     "data": {
      "text/html": [
       "<div>\n",
       "<style scoped>\n",
       "    .dataframe tbody tr th:only-of-type {\n",
       "        vertical-align: middle;\n",
       "    }\n",
       "\n",
       "    .dataframe tbody tr th {\n",
       "        vertical-align: top;\n",
       "    }\n",
       "\n",
       "    .dataframe thead th {\n",
       "        text-align: right;\n",
       "    }\n",
       "</style>\n",
       "<table border=\"1\" class=\"dataframe\">\n",
       "  <thead>\n",
       "    <tr style=\"text-align: right;\">\n",
       "      <th></th>\n",
       "      <th>Mouse ID</th>\n",
       "      <th>Drug Regimen</th>\n",
       "      <th>Sex</th>\n",
       "      <th>Age_months</th>\n",
       "      <th>Weight (g)</th>\n",
       "    </tr>\n",
       "  </thead>\n",
       "  <tbody>\n",
       "    <tr>\n",
       "      <th>0</th>\n",
       "      <td>k403</td>\n",
       "      <td>Ramicane</td>\n",
       "      <td>Male</td>\n",
       "      <td>21</td>\n",
       "      <td>16</td>\n",
       "    </tr>\n",
       "    <tr>\n",
       "      <th>1</th>\n",
       "      <td>s185</td>\n",
       "      <td>Capomulin</td>\n",
       "      <td>Female</td>\n",
       "      <td>3</td>\n",
       "      <td>17</td>\n",
       "    </tr>\n",
       "    <tr>\n",
       "      <th>2</th>\n",
       "      <td>x401</td>\n",
       "      <td>Capomulin</td>\n",
       "      <td>Female</td>\n",
       "      <td>16</td>\n",
       "      <td>15</td>\n",
       "    </tr>\n",
       "    <tr>\n",
       "      <th>3</th>\n",
       "      <td>m601</td>\n",
       "      <td>Capomulin</td>\n",
       "      <td>Male</td>\n",
       "      <td>22</td>\n",
       "      <td>17</td>\n",
       "    </tr>\n",
       "    <tr>\n",
       "      <th>4</th>\n",
       "      <td>g791</td>\n",
       "      <td>Ramicane</td>\n",
       "      <td>Male</td>\n",
       "      <td>11</td>\n",
       "      <td>16</td>\n",
       "    </tr>\n",
       "  </tbody>\n",
       "</table>\n",
       "</div>"
      ],
      "text/plain": [
       "  Mouse ID Drug Regimen     Sex  Age_months  Weight (g)\n",
       "0     k403     Ramicane    Male          21          16\n",
       "1     s185    Capomulin  Female           3          17\n",
       "2     x401    Capomulin  Female          16          15\n",
       "3     m601    Capomulin    Male          22          17\n",
       "4     g791     Ramicane    Male          11          16"
      ]
     },
     "execution_count": 4,
     "metadata": {},
     "output_type": "execute_result"
    }
   ],
   "source": [
    "# View mouse file\n",
    "print(f\"There are {len(mouse_df)} rows.\")\n",
    "mouse_df.head()"
   ]
  },
  {
   "cell_type": "code",
   "execution_count": 5,
   "id": "appointed-accent",
   "metadata": {},
   "outputs": [
    {
     "name": "stdout",
     "output_type": "stream",
     "text": [
      "There are 1,893 rows.\n"
     ]
    },
    {
     "data": {
      "text/html": [
       "<div>\n",
       "<style scoped>\n",
       "    .dataframe tbody tr th:only-of-type {\n",
       "        vertical-align: middle;\n",
       "    }\n",
       "\n",
       "    .dataframe tbody tr th {\n",
       "        vertical-align: top;\n",
       "    }\n",
       "\n",
       "    .dataframe thead th {\n",
       "        text-align: right;\n",
       "    }\n",
       "</style>\n",
       "<table border=\"1\" class=\"dataframe\">\n",
       "  <thead>\n",
       "    <tr style=\"text-align: right;\">\n",
       "      <th></th>\n",
       "      <th>Mouse ID</th>\n",
       "      <th>Timepoint</th>\n",
       "      <th>Tumor Volume (mm3)</th>\n",
       "      <th>Metastatic Sites</th>\n",
       "    </tr>\n",
       "  </thead>\n",
       "  <tbody>\n",
       "    <tr>\n",
       "      <th>0</th>\n",
       "      <td>b128</td>\n",
       "      <td>0</td>\n",
       "      <td>45.0</td>\n",
       "      <td>0</td>\n",
       "    </tr>\n",
       "    <tr>\n",
       "      <th>1</th>\n",
       "      <td>f932</td>\n",
       "      <td>0</td>\n",
       "      <td>45.0</td>\n",
       "      <td>0</td>\n",
       "    </tr>\n",
       "    <tr>\n",
       "      <th>2</th>\n",
       "      <td>g107</td>\n",
       "      <td>0</td>\n",
       "      <td>45.0</td>\n",
       "      <td>0</td>\n",
       "    </tr>\n",
       "    <tr>\n",
       "      <th>3</th>\n",
       "      <td>a457</td>\n",
       "      <td>0</td>\n",
       "      <td>45.0</td>\n",
       "      <td>0</td>\n",
       "    </tr>\n",
       "    <tr>\n",
       "      <th>4</th>\n",
       "      <td>c819</td>\n",
       "      <td>0</td>\n",
       "      <td>45.0</td>\n",
       "      <td>0</td>\n",
       "    </tr>\n",
       "  </tbody>\n",
       "</table>\n",
       "</div>"
      ],
      "text/plain": [
       "  Mouse ID  Timepoint  Tumor Volume (mm3)  Metastatic Sites\n",
       "0     b128          0                45.0                 0\n",
       "1     f932          0                45.0                 0\n",
       "2     g107          0                45.0                 0\n",
       "3     a457          0                45.0                 0\n",
       "4     c819          0                45.0                 0"
      ]
     },
     "execution_count": 5,
     "metadata": {},
     "output_type": "execute_result"
    }
   ],
   "source": [
    "# View results file\n",
    "print(f\"There are {len(results_df):1,} rows.\")\n",
    "results_df.head()"
   ]
  },
  {
   "cell_type": "code",
   "execution_count": 6,
   "id": "pleasant-spanish",
   "metadata": {},
   "outputs": [
    {
     "name": "stdout",
     "output_type": "stream",
     "text": [
      "There were 10 duplicate rows.\n",
      "After removing the duplicates, there are now 1,883 rows.\n"
     ]
    }
   ],
   "source": [
    "# Check for duplicate timepoints with a single mouse ID and create a new column\n",
    "results_df[\"Duplicate\"] = results_df.duplicated(subset=[\"Mouse ID\", \"Timepoint\"], keep=False)\n",
    "\n",
    "# Remove duplicates\n",
    "results_reduced_df = results_df.loc[results_df[\"Duplicate\"] == False, [\"Mouse ID\", \"Timepoint\", \"Tumor Volume (mm3)\",\n",
    "                                                                      \"Metastatic Sites\"]]\n",
    "# Print output\n",
    "print(f\"There were {len(results_df) - len(results_reduced_df)} duplicate rows.\")\n",
    "print(f\"After removing the duplicates, there are now {len(results_reduced_df):1,} rows.\")"
   ]
  },
  {
   "cell_type": "code",
   "execution_count": 7,
   "id": "finished-musician",
   "metadata": {},
   "outputs": [
    {
     "name": "stdout",
     "output_type": "stream",
     "text": [
      "These timepoints were duplicated:\n",
      "[0, 0, 5, 5, 10, 10, 15, 15, 20, 20]\n",
      "With this Mouse ID:\n",
      "['g989', 'g989', 'g989', 'g989', 'g989', 'g989', 'g989', 'g989', 'g989', 'g989']\n"
     ]
    }
   ],
   "source": [
    "# Identify duplicates (if want to see)\n",
    "duplicate = results_df.loc[results_df[\"Duplicate\"] == True, [\"Mouse ID\", \"Timepoint\", \"Tumor Volume (mm3)\",\"Metastatic Sites\"]]\n",
    "duplicate = duplicate.reset_index()\n",
    "#duplicate\n",
    "\n",
    "print(f\"These timepoints were duplicated:\")\n",
    "print([duplicate[\"Timepoint\"][row] for row in range(len(duplicate))])\n",
    "print(f\"With this Mouse ID:\")\n",
    "print([duplicate[\"Mouse ID\"][row] for row in range(len(duplicate))])"
   ]
  },
  {
   "cell_type": "code",
   "execution_count": 8,
   "id": "spanish-cheese",
   "metadata": {},
   "outputs": [
    {
     "name": "stdout",
     "output_type": "stream",
     "text": [
      "There are 1,883 rows.\n"
     ]
    },
    {
     "data": {
      "text/html": [
       "<div>\n",
       "<style scoped>\n",
       "    .dataframe tbody tr th:only-of-type {\n",
       "        vertical-align: middle;\n",
       "    }\n",
       "\n",
       "    .dataframe tbody tr th {\n",
       "        vertical-align: top;\n",
       "    }\n",
       "\n",
       "    .dataframe thead th {\n",
       "        text-align: right;\n",
       "    }\n",
       "</style>\n",
       "<table border=\"1\" class=\"dataframe\">\n",
       "  <thead>\n",
       "    <tr style=\"text-align: right;\">\n",
       "      <th></th>\n",
       "      <th>Mouse ID</th>\n",
       "      <th>Drug Regimen</th>\n",
       "      <th>Sex</th>\n",
       "      <th>Age_months</th>\n",
       "      <th>Weight (g)</th>\n",
       "      <th>Timepoint</th>\n",
       "      <th>Tumor Volume (mm3)</th>\n",
       "      <th>Metastatic Sites</th>\n",
       "    </tr>\n",
       "  </thead>\n",
       "  <tbody>\n",
       "    <tr>\n",
       "      <th>0</th>\n",
       "      <td>k403</td>\n",
       "      <td>Ramicane</td>\n",
       "      <td>Male</td>\n",
       "      <td>21</td>\n",
       "      <td>16</td>\n",
       "      <td>0</td>\n",
       "      <td>45.000000</td>\n",
       "      <td>0</td>\n",
       "    </tr>\n",
       "    <tr>\n",
       "      <th>1</th>\n",
       "      <td>k403</td>\n",
       "      <td>Ramicane</td>\n",
       "      <td>Male</td>\n",
       "      <td>21</td>\n",
       "      <td>16</td>\n",
       "      <td>5</td>\n",
       "      <td>38.825898</td>\n",
       "      <td>0</td>\n",
       "    </tr>\n",
       "    <tr>\n",
       "      <th>2</th>\n",
       "      <td>k403</td>\n",
       "      <td>Ramicane</td>\n",
       "      <td>Male</td>\n",
       "      <td>21</td>\n",
       "      <td>16</td>\n",
       "      <td>10</td>\n",
       "      <td>35.014271</td>\n",
       "      <td>1</td>\n",
       "    </tr>\n",
       "    <tr>\n",
       "      <th>3</th>\n",
       "      <td>k403</td>\n",
       "      <td>Ramicane</td>\n",
       "      <td>Male</td>\n",
       "      <td>21</td>\n",
       "      <td>16</td>\n",
       "      <td>15</td>\n",
       "      <td>34.223992</td>\n",
       "      <td>1</td>\n",
       "    </tr>\n",
       "    <tr>\n",
       "      <th>4</th>\n",
       "      <td>k403</td>\n",
       "      <td>Ramicane</td>\n",
       "      <td>Male</td>\n",
       "      <td>21</td>\n",
       "      <td>16</td>\n",
       "      <td>20</td>\n",
       "      <td>32.997729</td>\n",
       "      <td>1</td>\n",
       "    </tr>\n",
       "  </tbody>\n",
       "</table>\n",
       "</div>"
      ],
      "text/plain": [
       "  Mouse ID Drug Regimen   Sex  Age_months  Weight (g)  Timepoint  \\\n",
       "0     k403     Ramicane  Male          21          16          0   \n",
       "1     k403     Ramicane  Male          21          16          5   \n",
       "2     k403     Ramicane  Male          21          16         10   \n",
       "3     k403     Ramicane  Male          21          16         15   \n",
       "4     k403     Ramicane  Male          21          16         20   \n",
       "\n",
       "   Tumor Volume (mm3)  Metastatic Sites  \n",
       "0           45.000000                 0  \n",
       "1           38.825898                 0  \n",
       "2           35.014271                 1  \n",
       "3           34.223992                 1  \n",
       "4           32.997729                 1  "
      ]
     },
     "execution_count": 8,
     "metadata": {},
     "output_type": "execute_result"
    }
   ],
   "source": [
    "# Merge DataFrames \n",
    "merged_df = pd.merge(mouse_df, results_reduced_df, on=\"Mouse ID\")\n",
    "print(f\"There are {len(merged_df):1,} rows.\")\n",
    "merged_df.head()"
   ]
  },
  {
   "cell_type": "code",
   "execution_count": 9,
   "id": "indie-booth",
   "metadata": {},
   "outputs": [],
   "source": [
    "# Create new csv for merged data: to check merge was correct\n",
    "#merged_df.to_csv(\"merged_df.csv\", header=True)"
   ]
  },
  {
   "cell_type": "code",
   "execution_count": 10,
   "id": "revised-laundry",
   "metadata": {},
   "outputs": [],
   "source": [
    "# Calculate mean of volume\n",
    "mean_volume_df = merged_df.groupby(\"Drug Regimen\").mean()\n",
    "\n",
    "# Reset the index\n",
    "mean_volume_df = mean_volume_df.reset_index()\n",
    "# Remove other columns\n",
    "mean_volume_df = mean_volume_df[[\"Drug Regimen\", \"Tumor Volume (mm3)\"]]\n",
    "# Rename column\n",
    "mean_volume_df = mean_volume_df.rename(columns={\"Tumor Volume (mm3)\": \"Mean\"})\n",
    "\n",
    "#mean_volume_df"
   ]
  },
  {
   "cell_type": "code",
   "execution_count": 11,
   "id": "retained-affairs",
   "metadata": {},
   "outputs": [],
   "source": [
    "# Calculate the median of the volume\n",
    "median_volume_df = merged_df.groupby(\"Drug Regimen\").median()\n",
    "\n",
    "# Reset the index\n",
    "median_volume_df = median_volume_df.reset_index()\n",
    "# Remove other columns\n",
    "median_volume_df = median_volume_df[[\"Drug Regimen\", \"Tumor Volume (mm3)\"]]\n",
    "# Rename column\n",
    "median_volume_df = median_volume_df.rename(columns={\"Tumor Volume (mm3)\": \"Median\"})\n",
    "\n",
    "#median_volume_df"
   ]
  },
  {
   "cell_type": "code",
   "execution_count": 12,
   "id": "equal-detroit",
   "metadata": {},
   "outputs": [],
   "source": [
    "# Calculate the variance of the volume\n",
    "variance_volume_df = merged_df.groupby(\"Drug Regimen\").var()\n",
    "\n",
    "# Reset the index\n",
    "variance_volume_df = variance_volume_df.reset_index()\n",
    "# Remove other columns\n",
    "variance_volume_df = variance_volume_df[[\"Drug Regimen\", \"Tumor Volume (mm3)\"]]\n",
    "# Rename column\n",
    "variance_volume_df = variance_volume_df.rename(columns={\"Tumor Volume (mm3)\": \"Variance\"})\n",
    "\n",
    "#variance_volume_df"
   ]
  },
  {
   "cell_type": "code",
   "execution_count": 13,
   "id": "compact-outside",
   "metadata": {},
   "outputs": [],
   "source": [
    "# Calculate Standard Deviation\n",
    "sd_volume_df = merged_df.groupby(\"Drug Regimen\").std()\n",
    "\n",
    "# Reset the index\n",
    "sd_volume_df = sd_volume_df.reset_index()\n",
    "# Remove other columns\n",
    "sd_volume_df = sd_volume_df[[\"Drug Regimen\", \"Tumor Volume (mm3)\"]]\n",
    "# Rename column\n",
    "sd_volume_df = sd_volume_df.rename(columns={\"Tumor Volume (mm3)\": \"Standard Deviation\"})\n",
    "\n",
    "#sd_volume_df"
   ]
  },
  {
   "cell_type": "code",
   "execution_count": 14,
   "id": "alone-warning",
   "metadata": {},
   "outputs": [],
   "source": [
    "# Calculate Standard Error of the Mean\n",
    "sem_volume_df = merged_df.groupby(\"Drug Regimen\").sem()\n",
    "\n",
    "# Reset the index\n",
    "sem_volume_df = sem_volume_df.reset_index()\n",
    "# Remove other columns\n",
    "sem_volume_df = sem_volume_df[[\"Drug Regimen\", \"Tumor Volume (mm3)\"]]\n",
    "# Rename column\n",
    "sem_volume_df = sem_volume_df.rename(columns={\"Tumor Volume (mm3)\": \"Standard Error of the Mean\"})\n",
    "\n",
    "#sem_volume_df"
   ]
  },
  {
   "cell_type": "code",
   "execution_count": 15,
   "id": "experienced-massage",
   "metadata": {},
   "outputs": [],
   "source": [
    "# Merge tables on drug regimen (mean & median)\n",
    "mean_median = pd.merge(mean_volume_df, median_volume_df, on=\"Drug Regimen\")\n",
    "#mean_median"
   ]
  },
  {
   "cell_type": "code",
   "execution_count": 16,
   "id": "careful-compatibility",
   "metadata": {},
   "outputs": [],
   "source": [
    "# Merge tables on drug regimen (variance & standard deviation)\n",
    "variance_sd = pd.merge(variance_volume_df, sd_volume_df, on=\"Drug Regimen\")\n",
    "#variance_sd"
   ]
  },
  {
   "cell_type": "code",
   "execution_count": 17,
   "id": "universal-sequence",
   "metadata": {},
   "outputs": [],
   "source": [
    "# Merge tables on drug regimen (missing SEM)\n",
    "summary_stats_0 = pd.merge(mean_median, variance_sd, on=\"Drug Regimen\")\n",
    "#summary_stats_0"
   ]
  },
  {
   "cell_type": "markdown",
   "id": "geological-entertainment",
   "metadata": {},
   "source": [
    "# Summary Statistics of Tumor Volumes:"
   ]
  },
  {
   "cell_type": "code",
   "execution_count": 18,
   "id": "measured-wyoming",
   "metadata": {},
   "outputs": [
    {
     "data": {
      "text/html": [
       "<div>\n",
       "<style scoped>\n",
       "    .dataframe tbody tr th:only-of-type {\n",
       "        vertical-align: middle;\n",
       "    }\n",
       "\n",
       "    .dataframe tbody tr th {\n",
       "        vertical-align: top;\n",
       "    }\n",
       "\n",
       "    .dataframe thead th {\n",
       "        text-align: right;\n",
       "    }\n",
       "</style>\n",
       "<table border=\"1\" class=\"dataframe\">\n",
       "  <thead>\n",
       "    <tr style=\"text-align: right;\">\n",
       "      <th></th>\n",
       "      <th>Drug Regimen</th>\n",
       "      <th>Mean</th>\n",
       "      <th>Median</th>\n",
       "      <th>Variance</th>\n",
       "      <th>Standard Deviation</th>\n",
       "      <th>Standard Error of the Mean</th>\n",
       "    </tr>\n",
       "  </thead>\n",
       "  <tbody>\n",
       "    <tr>\n",
       "      <th>0</th>\n",
       "      <td>Capomulin</td>\n",
       "      <td>40.675741</td>\n",
       "      <td>41.557809</td>\n",
       "      <td>24.947764</td>\n",
       "      <td>4.994774</td>\n",
       "      <td>0.329346</td>\n",
       "    </tr>\n",
       "    <tr>\n",
       "      <th>1</th>\n",
       "      <td>Ceftamin</td>\n",
       "      <td>52.591172</td>\n",
       "      <td>51.776157</td>\n",
       "      <td>39.290177</td>\n",
       "      <td>6.268188</td>\n",
       "      <td>0.469821</td>\n",
       "    </tr>\n",
       "    <tr>\n",
       "      <th>2</th>\n",
       "      <td>Infubinol</td>\n",
       "      <td>52.884795</td>\n",
       "      <td>51.820584</td>\n",
       "      <td>43.128684</td>\n",
       "      <td>6.567243</td>\n",
       "      <td>0.492236</td>\n",
       "    </tr>\n",
       "    <tr>\n",
       "      <th>3</th>\n",
       "      <td>Ketapril</td>\n",
       "      <td>55.235638</td>\n",
       "      <td>53.698743</td>\n",
       "      <td>68.553577</td>\n",
       "      <td>8.279709</td>\n",
       "      <td>0.603860</td>\n",
       "    </tr>\n",
       "    <tr>\n",
       "      <th>4</th>\n",
       "      <td>Naftisol</td>\n",
       "      <td>54.331565</td>\n",
       "      <td>52.509285</td>\n",
       "      <td>66.173479</td>\n",
       "      <td>8.134708</td>\n",
       "      <td>0.596466</td>\n",
       "    </tr>\n",
       "    <tr>\n",
       "      <th>5</th>\n",
       "      <td>Placebo</td>\n",
       "      <td>54.033581</td>\n",
       "      <td>52.288934</td>\n",
       "      <td>61.168083</td>\n",
       "      <td>7.821003</td>\n",
       "      <td>0.581331</td>\n",
       "    </tr>\n",
       "    <tr>\n",
       "      <th>6</th>\n",
       "      <td>Propriva</td>\n",
       "      <td>52.458254</td>\n",
       "      <td>50.854632</td>\n",
       "      <td>44.053659</td>\n",
       "      <td>6.637293</td>\n",
       "      <td>0.540135</td>\n",
       "    </tr>\n",
       "    <tr>\n",
       "      <th>7</th>\n",
       "      <td>Ramicane</td>\n",
       "      <td>40.216745</td>\n",
       "      <td>40.673236</td>\n",
       "      <td>23.486704</td>\n",
       "      <td>4.846308</td>\n",
       "      <td>0.320955</td>\n",
       "    </tr>\n",
       "    <tr>\n",
       "      <th>8</th>\n",
       "      <td>Stelasyn</td>\n",
       "      <td>54.233149</td>\n",
       "      <td>52.431737</td>\n",
       "      <td>59.450562</td>\n",
       "      <td>7.710419</td>\n",
       "      <td>0.573111</td>\n",
       "    </tr>\n",
       "    <tr>\n",
       "      <th>9</th>\n",
       "      <td>Zoniferol</td>\n",
       "      <td>53.236507</td>\n",
       "      <td>51.818479</td>\n",
       "      <td>48.533355</td>\n",
       "      <td>6.966589</td>\n",
       "      <td>0.516398</td>\n",
       "    </tr>\n",
       "  </tbody>\n",
       "</table>\n",
       "</div>"
      ],
      "text/plain": [
       "  Drug Regimen       Mean     Median   Variance  Standard Deviation  \\\n",
       "0    Capomulin  40.675741  41.557809  24.947764            4.994774   \n",
       "1     Ceftamin  52.591172  51.776157  39.290177            6.268188   \n",
       "2    Infubinol  52.884795  51.820584  43.128684            6.567243   \n",
       "3     Ketapril  55.235638  53.698743  68.553577            8.279709   \n",
       "4     Naftisol  54.331565  52.509285  66.173479            8.134708   \n",
       "5      Placebo  54.033581  52.288934  61.168083            7.821003   \n",
       "6     Propriva  52.458254  50.854632  44.053659            6.637293   \n",
       "7     Ramicane  40.216745  40.673236  23.486704            4.846308   \n",
       "8     Stelasyn  54.233149  52.431737  59.450562            7.710419   \n",
       "9    Zoniferol  53.236507  51.818479  48.533355            6.966589   \n",
       "\n",
       "   Standard Error of the Mean  \n",
       "0                    0.329346  \n",
       "1                    0.469821  \n",
       "2                    0.492236  \n",
       "3                    0.603860  \n",
       "4                    0.596466  \n",
       "5                    0.581331  \n",
       "6                    0.540135  \n",
       "7                    0.320955  \n",
       "8                    0.573111  \n",
       "9                    0.516398  "
      ]
     },
     "execution_count": 18,
     "metadata": {},
     "output_type": "execute_result"
    }
   ],
   "source": [
    "# Merge tables on drug regimen (all stats)\n",
    "summary_stats_df = pd.merge(summary_stats_0, sem_volume_df, on=\"Drug Regimen\")\n",
    "summary_stats_df"
   ]
  },
  {
   "cell_type": "code",
   "execution_count": 19,
   "id": "criminal-motivation",
   "metadata": {},
   "outputs": [
    {
     "data": {
      "text/plain": [
       "Mean                          50.989715\n",
       "Median                        49.942960\n",
       "Variance                      47.878604\n",
       "Standard Deviation             6.822623\n",
       "Standard Error of the Mean     0.502366\n",
       "dtype: float64"
      ]
     },
     "execution_count": 19,
     "metadata": {},
     "output_type": "execute_result"
    }
   ],
   "source": [
    "# Aggregation Method: Summary Stats for Overall\n",
    "summary_stats_df.agg(func=\"mean\")"
   ]
  },
  {
   "cell_type": "code",
   "execution_count": 20,
   "id": "false-lotus",
   "metadata": {},
   "outputs": [],
   "source": [
    "# Create drug regimen dataframe \n",
    "drug_reg_df = merged_df[[\"Mouse ID\", \"Drug Regimen\"]]"
   ]
  },
  {
   "cell_type": "code",
   "execution_count": 21,
   "id": "domestic-squad",
   "metadata": {},
   "outputs": [
    {
     "data": {
      "text/html": [
       "<div>\n",
       "<style scoped>\n",
       "    .dataframe tbody tr th:only-of-type {\n",
       "        vertical-align: middle;\n",
       "    }\n",
       "\n",
       "    .dataframe tbody tr th {\n",
       "        vertical-align: top;\n",
       "    }\n",
       "\n",
       "    .dataframe thead th {\n",
       "        text-align: right;\n",
       "    }\n",
       "</style>\n",
       "<table border=\"1\" class=\"dataframe\">\n",
       "  <thead>\n",
       "    <tr style=\"text-align: right;\">\n",
       "      <th></th>\n",
       "      <th>Drug Regimen</th>\n",
       "      <th>Total Measurements</th>\n",
       "    </tr>\n",
       "  </thead>\n",
       "  <tbody>\n",
       "    <tr>\n",
       "      <th>0</th>\n",
       "      <td>Capomulin</td>\n",
       "      <td>230</td>\n",
       "    </tr>\n",
       "    <tr>\n",
       "      <th>1</th>\n",
       "      <td>Ceftamin</td>\n",
       "      <td>178</td>\n",
       "    </tr>\n",
       "    <tr>\n",
       "      <th>2</th>\n",
       "      <td>Infubinol</td>\n",
       "      <td>178</td>\n",
       "    </tr>\n",
       "    <tr>\n",
       "      <th>3</th>\n",
       "      <td>Ketapril</td>\n",
       "      <td>188</td>\n",
       "    </tr>\n",
       "    <tr>\n",
       "      <th>4</th>\n",
       "      <td>Naftisol</td>\n",
       "      <td>186</td>\n",
       "    </tr>\n",
       "    <tr>\n",
       "      <th>5</th>\n",
       "      <td>Placebo</td>\n",
       "      <td>181</td>\n",
       "    </tr>\n",
       "    <tr>\n",
       "      <th>6</th>\n",
       "      <td>Propriva</td>\n",
       "      <td>151</td>\n",
       "    </tr>\n",
       "    <tr>\n",
       "      <th>7</th>\n",
       "      <td>Ramicane</td>\n",
       "      <td>228</td>\n",
       "    </tr>\n",
       "    <tr>\n",
       "      <th>8</th>\n",
       "      <td>Stelasyn</td>\n",
       "      <td>181</td>\n",
       "    </tr>\n",
       "    <tr>\n",
       "      <th>9</th>\n",
       "      <td>Zoniferol</td>\n",
       "      <td>182</td>\n",
       "    </tr>\n",
       "  </tbody>\n",
       "</table>\n",
       "</div>"
      ],
      "text/plain": [
       "  Drug Regimen  Total Measurements\n",
       "0    Capomulin                 230\n",
       "1     Ceftamin                 178\n",
       "2    Infubinol                 178\n",
       "3     Ketapril                 188\n",
       "4     Naftisol                 186\n",
       "5      Placebo                 181\n",
       "6     Propriva                 151\n",
       "7     Ramicane                 228\n",
       "8     Stelasyn                 181\n",
       "9    Zoniferol                 182"
      ]
     },
     "execution_count": 21,
     "metadata": {},
     "output_type": "execute_result"
    }
   ],
   "source": [
    "# Create a groupby for the total number of measurements taken per regimen\n",
    "drug_reg_groupby = drug_reg_df.groupby(\"Drug Regimen\").count()\n",
    "# Reset Index\n",
    "drug_reg_groupby = drug_reg_groupby.reset_index()\n",
    "drug_reg_groupby = drug_reg_groupby.rename(columns={\"Mouse ID\": \"Total Measurements\"})\n",
    "\n",
    "drug_reg_groupby"
   ]
  },
  {
   "cell_type": "code",
   "execution_count": 22,
   "id": "julian-xerox",
   "metadata": {},
   "outputs": [],
   "source": [
    "# Create lists and append to lists\n",
    "measurements = []\n",
    "labels = []\n",
    "\n",
    "for x in drug_reg_groupby[\"Total Measurements\"]:\n",
    "    measurements.append(x)\n",
    "for x in drug_reg_groupby[\"Drug Regimen\"]:\n",
    "    labels.append(x)"
   ]
  },
  {
   "cell_type": "markdown",
   "id": "solar-transcription",
   "metadata": {},
   "source": [
    "# Bar Charts: \n",
    "### Total Number of Measurements per Drug Regimen:"
   ]
  },
  {
   "cell_type": "markdown",
   "id": "prescribed-sensitivity",
   "metadata": {},
   "source": [
    "## PyPlot"
   ]
  },
  {
   "cell_type": "code",
   "execution_count": 23,
   "id": "instant-forty",
   "metadata": {},
   "outputs": [
    {
     "data": {
      "image/png": "[encoded data removed]",
      "text/plain": [
       "<Figure size 432x288 with 1 Axes>"
      ]
     },
     "metadata": {
      "needs_background": "light"
     },
     "output_type": "display_data"
    }
   ],
   "source": [
    "# PyPlot Bar Chart\n",
    "plt.bar(labels, measurements, align=\"center\", width=0.80, color=\"cadetblue\")\n",
    "\n",
    "tick_locations = [value for value in range(len(labels))]\n",
    "plt.xticks(ticks=tick_locations, labels=labels, rotation=45)\n",
    "plt.title(\"Total Number of Measurements per Drug Regimen\")\n",
    "plt.xlabel(\"Drug Regimen\")\n",
    "plt.ylabel(\"Number of Measurements\")\n",
    "plt.grid(axis='y')\n",
    "plt.ylim=[0,(max(measurements)+10)]\n",
    "\n",
    "plt.show()"
   ]
  },
  {
   "cell_type": "markdown",
   "id": "homeless-cancellation",
   "metadata": {},
   "source": [
    "## Pandas"
   ]
  },
  {
   "cell_type": "code",
   "execution_count": 24,
   "id": "color-logan",
   "metadata": {},
   "outputs": [
    {
     "data": {
      "image/png": "[encoded data removed]",
      "text/plain": [
       "<Figure size 432x288 with 1 Axes>"
      ]
     },
     "metadata": {
      "needs_background": "light"
     },
     "output_type": "display_data"
    }
   ],
   "source": [
    "# Pandas Bar Chart\n",
    "drug_reg_groupby.plot(kind='bar', legend=False, title=\"Total Number of Measurements per Drug Regimen\",\n",
    "                        rot='45', ylim=[0,max(measurements)+10], width=0.80, color=\"cadetblue\", align=\"center\")\n",
    "\n",
    "tick_locations = [value for value in range(len(labels))]\n",
    "plt.xticks(ticks=tick_locations, labels=labels)\n",
    "plt.xlabel(\"Drug Regimen\")\n",
    "plt.ylabel(\"Number of Measurements\")\n",
    "plt.grid(axis='y')\n",
    "\n",
    "plt.show()"
   ]
  },
  {
   "cell_type": "code",
   "execution_count": 25,
   "id": "statistical-frame",
   "metadata": {},
   "outputs": [],
   "source": [
    "# Create gender dataframe\n",
    "gender_df_volume = merged_df[[\"Mouse ID\", \"Sex\", \"Tumor Volume (mm3)\"]]\n",
    "gender_df = gender_df_volume[[\"Mouse ID\", \"Sex\"]]"
   ]
  },
  {
   "cell_type": "code",
   "execution_count": 26,
   "id": "taken-corruption",
   "metadata": {},
   "outputs": [
    {
     "data": {
      "text/html": [
       "<div>\n",
       "<style scoped>\n",
       "    .dataframe tbody tr th:only-of-type {\n",
       "        vertical-align: middle;\n",
       "    }\n",
       "\n",
       "    .dataframe tbody tr th {\n",
       "        vertical-align: top;\n",
       "    }\n",
       "\n",
       "    .dataframe thead th {\n",
       "        text-align: right;\n",
       "    }\n",
       "</style>\n",
       "<table border=\"1\" class=\"dataframe\">\n",
       "  <thead>\n",
       "    <tr style=\"text-align: right;\">\n",
       "      <th></th>\n",
       "      <th>Avg Tumor Volume</th>\n",
       "    </tr>\n",
       "    <tr>\n",
       "      <th>Sex</th>\n",
       "      <th></th>\n",
       "    </tr>\n",
       "  </thead>\n",
       "  <tbody>\n",
       "    <tr>\n",
       "      <th>Female</th>\n",
       "      <td>51.109600</td>\n",
       "    </tr>\n",
       "    <tr>\n",
       "      <th>Male</th>\n",
       "      <td>49.811764</td>\n",
       "    </tr>\n",
       "  </tbody>\n",
       "</table>\n",
       "</div>"
      ],
      "text/plain": [
       "        Avg Tumor Volume\n",
       "Sex                     \n",
       "Female         51.109600\n",
       "Male           49.811764"
      ]
     },
     "execution_count": 26,
     "metadata": {},
     "output_type": "execute_result"
    }
   ],
   "source": [
    "# Find avg tumor volume by gender\n",
    "gender_volume_groupby = gender_df_volume.groupby(\"Sex\").mean()\n",
    "gender_volume_groupby = gender_volume_groupby.rename(columns={\"Tumor Volume (mm3)\": \"Avg Tumor Volume\"})\n",
    "gender_volume_groupby"
   ]
  },
  {
   "cell_type": "code",
   "execution_count": 27,
   "id": "divine-david",
   "metadata": {},
   "outputs": [
    {
     "data": {
      "text/html": [
       "<div>\n",
       "<style scoped>\n",
       "    .dataframe tbody tr th:only-of-type {\n",
       "        vertical-align: middle;\n",
       "    }\n",
       "\n",
       "    .dataframe tbody tr th {\n",
       "        vertical-align: top;\n",
       "    }\n",
       "\n",
       "    .dataframe thead th {\n",
       "        text-align: right;\n",
       "    }\n",
       "</style>\n",
       "<table border=\"1\" class=\"dataframe\">\n",
       "  <thead>\n",
       "    <tr style=\"text-align: right;\">\n",
       "      <th></th>\n",
       "      <th>Sex</th>\n",
       "      <th>Mouse ID</th>\n",
       "    </tr>\n",
       "  </thead>\n",
       "  <tbody>\n",
       "    <tr>\n",
       "      <th>0</th>\n",
       "      <td>Female</td>\n",
       "      <td>925</td>\n",
       "    </tr>\n",
       "    <tr>\n",
       "      <th>1</th>\n",
       "      <td>Male</td>\n",
       "      <td>958</td>\n",
       "    </tr>\n",
       "  </tbody>\n",
       "</table>\n",
       "</div>"
      ],
      "text/plain": [
       "      Sex  Mouse ID\n",
       "0  Female       925\n",
       "1    Male       958"
      ]
     },
     "execution_count": 27,
     "metadata": {},
     "output_type": "execute_result"
    }
   ],
   "source": [
    "# Create groupby dataframe for pie plots\n",
    "gender_groupby = gender_df.groupby(\"Sex\").count()\n",
    "# Reset index\n",
    "gender_groupby = gender_groupby.reset_index()\n",
    "gender_groupby.head()"
   ]
  },
  {
   "cell_type": "markdown",
   "id": "baking-strip",
   "metadata": {},
   "source": [
    "# Pie Charts:\n",
    "### Gender Breakdown of Mice:"
   ]
  },
  {
   "cell_type": "markdown",
   "id": "unlikely-battle",
   "metadata": {},
   "source": [
    "## PyPlot"
   ]
  },
  {
   "cell_type": "code",
   "execution_count": 28,
   "id": "warming-aaron",
   "metadata": {},
   "outputs": [
    {
     "data": {
      "image/png": "[encoded data removed]",
      "text/plain": [
       "<Figure size 324x324 with 1 Axes>"
      ]
     },
     "metadata": {},
     "output_type": "display_data"
    }
   ],
   "source": [
    "# PyPlot Pie chart\n",
    "colors = [\"coral\", \"mediumaquamarine\"]\n",
    "labels = [\"Female\", \"Male\"]\n",
    "sizes = []\n",
    "explode = [0.05, 0]\n",
    "\n",
    "# Append numbers to sizes\n",
    "for x in gender_groupby[\"Mouse ID\"]:\n",
    "    sizes.append(x)\n",
    "\n",
    "fig1, ax1 = plt.subplots(figsize=(4.5,4.5))\n",
    "plt.pie(sizes, colors=colors, labels=labels, explode=explode, startangle=45, autopct=\"%1.1f%%\")\n",
    "plt.title(\"Gender Breakdown of Mice\")\n",
    "plt.ylabel(\"Mice\")\n",
    "plt.legend(loc=\"best\")\n",
    "plt.show()"
   ]
  },
  {
   "cell_type": "markdown",
   "id": "infrared-better",
   "metadata": {},
   "source": [
    "## Pandas"
   ]
  },
  {
   "cell_type": "code",
   "execution_count": 29,
   "id": "identified-egypt",
   "metadata": {},
   "outputs": [
    {
     "data": {
      "image/png": "[encoded data removed]",
      "text/plain": [
       "<Figure size 432x288 with 1 Axes>"
      ]
     },
     "metadata": {},
     "output_type": "display_data"
    }
   ],
   "source": [
    "# Pandas Pie chart\n",
    "colors = [\"coral\", \"mediumaquamarine\"]\n",
    "gender_pie = gender_groupby.plot(kind=\"pie\", y=\"Mouse ID\", labels=gender_groupby[\"Sex\"], startangle=45, \n",
    "                                 autopct=\"%1.1f%%\", colors=colors, title=\"Gender Breakdown of Mice\", explode=[0.05,0])\n",
    "gender_pie.set_ylabel(\"Mice\")\n",
    "plt.axis(\"equal\")\n",
    "plt.show()"
   ]
  },
  {
   "cell_type": "markdown",
   "id": "automated-composite",
   "metadata": {},
   "source": [
    "## 4 Most Promising Treatment Regimens:"
   ]
  },
  {
   "cell_type": "markdown",
   "id": "crucial-candidate",
   "metadata": {},
   "source": [
    "### - Capomulin\n",
    "### - Ramicane\n",
    "### - Infubinol\n",
    "### - Ceftamin"
   ]
  },
  {
   "cell_type": "code",
   "execution_count": 30,
   "id": "macro-spectacular",
   "metadata": {},
   "outputs": [
    {
     "data": {
      "text/html": [
       "<div>\n",
       "<style scoped>\n",
       "    .dataframe tbody tr th:only-of-type {\n",
       "        vertical-align: middle;\n",
       "    }\n",
       "\n",
       "    .dataframe tbody tr th {\n",
       "        vertical-align: top;\n",
       "    }\n",
       "\n",
       "    .dataframe thead th {\n",
       "        text-align: right;\n",
       "    }\n",
       "</style>\n",
       "<table border=\"1\" class=\"dataframe\">\n",
       "  <thead>\n",
       "    <tr style=\"text-align: right;\">\n",
       "      <th></th>\n",
       "      <th>Mouse ID</th>\n",
       "      <th>Drug Regimen</th>\n",
       "      <th>Tumor Volume (mm3)</th>\n",
       "      <th>Timepoint</th>\n",
       "      <th>Weight (g)</th>\n",
       "    </tr>\n",
       "  </thead>\n",
       "  <tbody>\n",
       "    <tr>\n",
       "      <th>0</th>\n",
       "      <td>k403</td>\n",
       "      <td>Ramicane</td>\n",
       "      <td>45.000000</td>\n",
       "      <td>0</td>\n",
       "      <td>16</td>\n",
       "    </tr>\n",
       "    <tr>\n",
       "      <th>1</th>\n",
       "      <td>k403</td>\n",
       "      <td>Ramicane</td>\n",
       "      <td>38.825898</td>\n",
       "      <td>5</td>\n",
       "      <td>16</td>\n",
       "    </tr>\n",
       "    <tr>\n",
       "      <th>2</th>\n",
       "      <td>k403</td>\n",
       "      <td>Ramicane</td>\n",
       "      <td>35.014271</td>\n",
       "      <td>10</td>\n",
       "      <td>16</td>\n",
       "    </tr>\n",
       "    <tr>\n",
       "      <th>3</th>\n",
       "      <td>k403</td>\n",
       "      <td>Ramicane</td>\n",
       "      <td>34.223992</td>\n",
       "      <td>15</td>\n",
       "      <td>16</td>\n",
       "    </tr>\n",
       "    <tr>\n",
       "      <th>4</th>\n",
       "      <td>k403</td>\n",
       "      <td>Ramicane</td>\n",
       "      <td>32.997729</td>\n",
       "      <td>20</td>\n",
       "      <td>16</td>\n",
       "    </tr>\n",
       "    <tr>\n",
       "      <th>...</th>\n",
       "      <td>...</td>\n",
       "      <td>...</td>\n",
       "      <td>...</td>\n",
       "      <td>...</td>\n",
       "      <td>...</td>\n",
       "    </tr>\n",
       "    <tr>\n",
       "      <th>809</th>\n",
       "      <td>z581</td>\n",
       "      <td>Infubinol</td>\n",
       "      <td>54.316407</td>\n",
       "      <td>25</td>\n",
       "      <td>25</td>\n",
       "    </tr>\n",
       "    <tr>\n",
       "      <th>810</th>\n",
       "      <td>z581</td>\n",
       "      <td>Infubinol</td>\n",
       "      <td>56.286750</td>\n",
       "      <td>30</td>\n",
       "      <td>25</td>\n",
       "    </tr>\n",
       "    <tr>\n",
       "      <th>811</th>\n",
       "      <td>z581</td>\n",
       "      <td>Infubinol</td>\n",
       "      <td>58.628399</td>\n",
       "      <td>35</td>\n",
       "      <td>25</td>\n",
       "    </tr>\n",
       "    <tr>\n",
       "      <th>812</th>\n",
       "      <td>z581</td>\n",
       "      <td>Infubinol</td>\n",
       "      <td>60.053740</td>\n",
       "      <td>40</td>\n",
       "      <td>25</td>\n",
       "    </tr>\n",
       "    <tr>\n",
       "      <th>813</th>\n",
       "      <td>z581</td>\n",
       "      <td>Infubinol</td>\n",
       "      <td>62.754451</td>\n",
       "      <td>45</td>\n",
       "      <td>25</td>\n",
       "    </tr>\n",
       "  </tbody>\n",
       "</table>\n",
       "<p>814 rows × 5 columns</p>\n",
       "</div>"
      ],
      "text/plain": [
       "    Mouse ID Drug Regimen  Tumor Volume (mm3)  Timepoint  Weight (g)\n",
       "0       k403     Ramicane           45.000000          0          16\n",
       "1       k403     Ramicane           38.825898          5          16\n",
       "2       k403     Ramicane           35.014271         10          16\n",
       "3       k403     Ramicane           34.223992         15          16\n",
       "4       k403     Ramicane           32.997729         20          16\n",
       "..       ...          ...                 ...        ...         ...\n",
       "809     z581    Infubinol           54.316407         25          25\n",
       "810     z581    Infubinol           56.286750         30          25\n",
       "811     z581    Infubinol           58.628399         35          25\n",
       "812     z581    Infubinol           60.053740         40          25\n",
       "813     z581    Infubinol           62.754451         45          25\n",
       "\n",
       "[814 rows x 5 columns]"
      ]
     },
     "execution_count": 30,
     "metadata": {},
     "output_type": "execute_result"
    }
   ],
   "source": [
    "# Find 4 promising regimens and isolate into a dataframe\n",
    "promising_regimens = merged_df.loc[(merged_df[\"Drug Regimen\"] == \"Capomulin\") | (merged_df[\"Drug Regimen\"] == \"Ramicane\") |\n",
    "                                   (merged_df[\"Drug Regimen\"] == \"Infubinol\") | (merged_df[\"Drug Regimen\"] == \"Ceftamin\"), :]\n",
    "# Reset the index\n",
    "promising_regimens = promising_regimens.reset_index(drop=True)\n",
    "\n",
    "# Remove other columns\n",
    "promising_regimens = promising_regimens[[\"Mouse ID\", \"Drug Regimen\", \"Tumor Volume (mm3)\", \"Timepoint\", \"Weight (g)\"]]\n",
    "\n",
    "promising_regimens"
   ]
  },
  {
   "cell_type": "code",
   "execution_count": 31,
   "id": "czech-basin",
   "metadata": {},
   "outputs": [
    {
     "data": {
      "text/html": [
       "<div>\n",
       "<style scoped>\n",
       "    .dataframe tbody tr th:only-of-type {\n",
       "        vertical-align: middle;\n",
       "    }\n",
       "\n",
       "    .dataframe tbody tr th {\n",
       "        vertical-align: top;\n",
       "    }\n",
       "\n",
       "    .dataframe thead th {\n",
       "        text-align: right;\n",
       "    }\n",
       "</style>\n",
       "<table border=\"1\" class=\"dataframe\">\n",
       "  <thead>\n",
       "    <tr style=\"text-align: right;\">\n",
       "      <th></th>\n",
       "      <th>Mouse ID</th>\n",
       "      <th>Timepoint</th>\n",
       "    </tr>\n",
       "  </thead>\n",
       "  <tbody>\n",
       "    <tr>\n",
       "      <th>0</th>\n",
       "      <td>a203</td>\n",
       "      <td>45</td>\n",
       "    </tr>\n",
       "    <tr>\n",
       "      <th>1</th>\n",
       "      <td>a251</td>\n",
       "      <td>45</td>\n",
       "    </tr>\n",
       "    <tr>\n",
       "      <th>2</th>\n",
       "      <td>a275</td>\n",
       "      <td>45</td>\n",
       "    </tr>\n",
       "    <tr>\n",
       "      <th>3</th>\n",
       "      <td>a411</td>\n",
       "      <td>45</td>\n",
       "    </tr>\n",
       "    <tr>\n",
       "      <th>4</th>\n",
       "      <td>a444</td>\n",
       "      <td>45</td>\n",
       "    </tr>\n",
       "    <tr>\n",
       "      <th>...</th>\n",
       "      <td>...</td>\n",
       "      <td>...</td>\n",
       "    </tr>\n",
       "    <tr>\n",
       "      <th>95</th>\n",
       "      <td>y769</td>\n",
       "      <td>45</td>\n",
       "    </tr>\n",
       "    <tr>\n",
       "      <th>96</th>\n",
       "      <td>y793</td>\n",
       "      <td>45</td>\n",
       "    </tr>\n",
       "    <tr>\n",
       "      <th>97</th>\n",
       "      <td>y865</td>\n",
       "      <td>45</td>\n",
       "    </tr>\n",
       "    <tr>\n",
       "      <th>98</th>\n",
       "      <td>z578</td>\n",
       "      <td>45</td>\n",
       "    </tr>\n",
       "    <tr>\n",
       "      <th>99</th>\n",
       "      <td>z581</td>\n",
       "      <td>45</td>\n",
       "    </tr>\n",
       "  </tbody>\n",
       "</table>\n",
       "<p>100 rows × 2 columns</p>\n",
       "</div>"
      ],
      "text/plain": [
       "   Mouse ID  Timepoint\n",
       "0      a203         45\n",
       "1      a251         45\n",
       "2      a275         45\n",
       "3      a411         45\n",
       "4      a444         45\n",
       "..      ...        ...\n",
       "95     y769         45\n",
       "96     y793         45\n",
       "97     y865         45\n",
       "98     z578         45\n",
       "99     z581         45\n",
       "\n",
       "[100 rows x 2 columns]"
      ]
     },
     "execution_count": 31,
     "metadata": {},
     "output_type": "execute_result"
    }
   ],
   "source": [
    "# GroupBy mouse ID to find alternate max time points\n",
    "mouse_groupby = promising_regimens.groupby(\"Mouse ID\").max()\n",
    "# Reset index\n",
    "mouse_groupby = mouse_groupby.reset_index()\n",
    "mouse_groupby = mouse_groupby[[\"Mouse ID\", \"Timepoint\"]]\n",
    "mouse_groupby"
   ]
  },
  {
   "cell_type": "code",
   "execution_count": 32,
   "id": "liable-marine",
   "metadata": {},
   "outputs": [
    {
     "data": {
      "text/html": [
       "<div>\n",
       "<style scoped>\n",
       "    .dataframe tbody tr th:only-of-type {\n",
       "        vertical-align: middle;\n",
       "    }\n",
       "\n",
       "    .dataframe tbody tr th {\n",
       "        vertical-align: top;\n",
       "    }\n",
       "\n",
       "    .dataframe thead th {\n",
       "        text-align: right;\n",
       "    }\n",
       "</style>\n",
       "<table border=\"1\" class=\"dataframe\">\n",
       "  <thead>\n",
       "    <tr style=\"text-align: right;\">\n",
       "      <th></th>\n",
       "      <th>Mouse ID</th>\n",
       "      <th>Timepoint</th>\n",
       "      <th>Drug Regimen</th>\n",
       "      <th>Tumor Volume (mm3)</th>\n",
       "      <th>Weight (g)</th>\n",
       "    </tr>\n",
       "  </thead>\n",
       "  <tbody>\n",
       "    <tr>\n",
       "      <th>0</th>\n",
       "      <td>a203</td>\n",
       "      <td>45</td>\n",
       "      <td>Infubinol</td>\n",
       "      <td>67.973419</td>\n",
       "      <td>23</td>\n",
       "    </tr>\n",
       "    <tr>\n",
       "      <th>1</th>\n",
       "      <td>a251</td>\n",
       "      <td>45</td>\n",
       "      <td>Infubinol</td>\n",
       "      <td>65.525743</td>\n",
       "      <td>25</td>\n",
       "    </tr>\n",
       "    <tr>\n",
       "      <th>2</th>\n",
       "      <td>a275</td>\n",
       "      <td>45</td>\n",
       "      <td>Ceftamin</td>\n",
       "      <td>62.999356</td>\n",
       "      <td>28</td>\n",
       "    </tr>\n",
       "    <tr>\n",
       "      <th>3</th>\n",
       "      <td>a411</td>\n",
       "      <td>45</td>\n",
       "      <td>Ramicane</td>\n",
       "      <td>38.407618</td>\n",
       "      <td>22</td>\n",
       "    </tr>\n",
       "    <tr>\n",
       "      <th>4</th>\n",
       "      <td>a444</td>\n",
       "      <td>45</td>\n",
       "      <td>Ramicane</td>\n",
       "      <td>43.047543</td>\n",
       "      <td>25</td>\n",
       "    </tr>\n",
       "    <tr>\n",
       "      <th>...</th>\n",
       "      <td>...</td>\n",
       "      <td>...</td>\n",
       "      <td>...</td>\n",
       "      <td>...</td>\n",
       "      <td>...</td>\n",
       "    </tr>\n",
       "    <tr>\n",
       "      <th>95</th>\n",
       "      <td>y769</td>\n",
       "      <td>45</td>\n",
       "      <td>Ceftamin</td>\n",
       "      <td>68.594745</td>\n",
       "      <td>27</td>\n",
       "    </tr>\n",
       "    <tr>\n",
       "      <th>96</th>\n",
       "      <td>y793</td>\n",
       "      <td>45</td>\n",
       "      <td>Capomulin</td>\n",
       "      <td>31.896238</td>\n",
       "      <td>17</td>\n",
       "    </tr>\n",
       "    <tr>\n",
       "      <th>97</th>\n",
       "      <td>y865</td>\n",
       "      <td>45</td>\n",
       "      <td>Ceftamin</td>\n",
       "      <td>64.729837</td>\n",
       "      <td>26</td>\n",
       "    </tr>\n",
       "    <tr>\n",
       "      <th>98</th>\n",
       "      <td>z578</td>\n",
       "      <td>45</td>\n",
       "      <td>Ramicane</td>\n",
       "      <td>30.638696</td>\n",
       "      <td>16</td>\n",
       "    </tr>\n",
       "    <tr>\n",
       "      <th>99</th>\n",
       "      <td>z581</td>\n",
       "      <td>45</td>\n",
       "      <td>Infubinol</td>\n",
       "      <td>62.754451</td>\n",
       "      <td>25</td>\n",
       "    </tr>\n",
       "  </tbody>\n",
       "</table>\n",
       "<p>100 rows × 5 columns</p>\n",
       "</div>"
      ],
      "text/plain": [
       "   Mouse ID  Timepoint Drug Regimen  Tumor Volume (mm3)  Weight (g)\n",
       "0      a203         45    Infubinol           67.973419          23\n",
       "1      a251         45    Infubinol           65.525743          25\n",
       "2      a275         45     Ceftamin           62.999356          28\n",
       "3      a411         45     Ramicane           38.407618          22\n",
       "4      a444         45     Ramicane           43.047543          25\n",
       "..      ...        ...          ...                 ...         ...\n",
       "95     y769         45     Ceftamin           68.594745          27\n",
       "96     y793         45    Capomulin           31.896238          17\n",
       "97     y865         45     Ceftamin           64.729837          26\n",
       "98     z578         45     Ramicane           30.638696          16\n",
       "99     z581         45    Infubinol           62.754451          25\n",
       "\n",
       "[100 rows x 5 columns]"
      ]
     },
     "execution_count": 32,
     "metadata": {},
     "output_type": "execute_result"
    }
   ],
   "source": [
    "# Merge & get the tumor volume for the final timepoint\n",
    "merged_mice = pd.merge(mouse_groupby, promising_regimens, on=[\"Mouse ID\", \"Timepoint\"])\n",
    "merged_mice"
   ]
  },
  {
   "cell_type": "code",
   "execution_count": 33,
   "id": "cardiovascular-tenant",
   "metadata": {},
   "outputs": [],
   "source": [
    "# Isolate the final timepoint & Capomulin drug\n",
    "capomulin = merged_mice.loc[(merged_mice[\"Drug Regimen\"] == \"Capomulin\"),:]\n",
    "\n",
    "# Reset index\n",
    "capomulin = capomulin.reset_index(drop=True)\n",
    "\n",
    "# Create series for volume\n",
    "capomulin_vol = capomulin[\"Tumor Volume (mm3)\"]\n",
    "#capomulin.count()"
   ]
  },
  {
   "cell_type": "code",
   "execution_count": 34,
   "id": "reasonable-louis",
   "metadata": {},
   "outputs": [],
   "source": [
    "# Isolate the final timepoint & ramicane drug\n",
    "ramicane = merged_mice.loc[(merged_mice[\"Drug Regimen\"] == \"Ramicane\"),:]\n",
    "\n",
    "# Reset index\n",
    "ramicane = ramicane.reset_index(drop=True)\n",
    "\n",
    "# Create series for volume\n",
    "ramicane_vol = ramicane[\"Tumor Volume (mm3)\"]\n",
    "#ramicane.count()"
   ]
  },
  {
   "cell_type": "code",
   "execution_count": 35,
   "id": "green-algeria",
   "metadata": {},
   "outputs": [],
   "source": [
    "# Isolate the final timepoint & infubinol drug\n",
    "infubinol = merged_mice.loc[(merged_mice[\"Drug Regimen\"] == \"Infubinol\"),:]\n",
    "\n",
    "# Reset index\n",
    "infubinol = infubinol.reset_index(drop=True)\n",
    "\n",
    "# Create series for volume\n",
    "infubinol_vol = infubinol[\"Tumor Volume (mm3)\"]\n",
    "#infubinol.count()"
   ]
  },
  {
   "cell_type": "code",
   "execution_count": 36,
   "id": "competitive-grade",
   "metadata": {},
   "outputs": [],
   "source": [
    "# Isolate the final timepoint & ceftamin drug\n",
    "ceftamin = merged_mice.loc[(merged_mice[\"Drug Regimen\"] == \"Ceftamin\"),:]\n",
    "\n",
    "# Reset index\n",
    "ceftamin = ceftamin.reset_index(drop=True)\n",
    "\n",
    "# Create series for volume\n",
    "ceftamin_vol = ceftamin[\"Tumor Volume (mm3)\"]\n",
    "#ceftamin.count()"
   ]
  },
  {
   "cell_type": "code",
   "execution_count": 37,
   "id": "acceptable-serum",
   "metadata": {},
   "outputs": [
    {
     "name": "stdout",
     "output_type": "stream",
     "text": [
      "The lower quartile for Capomulin is 32.38.\n",
      "The upper quartile for Capomulin is 40.16.\n",
      "The interquartile range is 7.78.\n",
      "Potential Outliers: values below 20.70 and above 51.83\n",
      "Min: 23.34\n",
      "Max: 47.69\n",
      " No outliers found.\n"
     ]
    }
   ],
   "source": [
    "# Create quartiles & IQR: Capomulin\n",
    "quartiles_cap = capomulin_vol.quantile([.25,.5,.75])\n",
    "lowerq_cap = quartiles_cap[.25]\n",
    "upperq_cap = quartiles_cap[.75]\n",
    "iqr_cap = upperq_cap-lowerq_cap\n",
    "\n",
    "# Print out results\n",
    "print(f\"The lower quartile for Capomulin is {lowerq_cap:1.2f}.\")\n",
    "print(f\"The upper quartile for Capomulin is {upperq_cap:1.2f}.\")\n",
    "print(f\"The interquartile range is {iqr_cap:1.2f}.\")\n",
    "\n",
    "# Find upper and lower bounds and print out results\n",
    "lowerbound = lowerq_cap - (1.5*iqr_cap)\n",
    "upperbound = upperq_cap + (1.5*iqr_cap)\n",
    "print(f\"Potential Outliers: values below {lowerbound:1.2f} and above {upperbound:1.2f}\")\n",
    "print(f\"Min: {min(capomulin_vol):1.2f}\")\n",
    "print(f\"Max: {max(capomulin_vol):1.2f}\")\n",
    "\n",
    "# Quantitatively Determine if there are outliers\n",
    "if min(capomulin_vol) < lowerbound:\n",
    "    print(\" There is a potential outlier below the lower bound.\")\n",
    "elif max(capomulin_vol) > upperbound:\n",
    "    print(\" There is a potential outlier above the upper bound.\")\n",
    "else:\n",
    "    print(\" No outliers found.\")"
   ]
  },
  {
   "cell_type": "code",
   "execution_count": 38,
   "id": "packed-shift",
   "metadata": {},
   "outputs": [
    {
     "name": "stdout",
     "output_type": "stream",
     "text": [
      "The lower quartile for Ramicane is 31.56.\n",
      "The upper quartile for Ramicane is 40.66.\n",
      "The interquartile range is 9.10.\n",
      "Potential Outliers: values below 17.91 and above 54.31\n",
      "Min: 22.05\n",
      "Max: 45.22\n",
      " No outliers found.\n"
     ]
    }
   ],
   "source": [
    "# Create quartiles & IQR: ramicane\n",
    "quartiles_ram = ramicane_vol.quantile([.25,.5,.75])\n",
    "lowerq_ram = quartiles_ram[.25]\n",
    "upperq_ram = quartiles_ram[.75]\n",
    "iqr_ram = upperq_ram-lowerq_ram\n",
    "\n",
    "# Print out results\n",
    "print(f\"The lower quartile for Ramicane is {lowerq_ram:1.2f}.\")\n",
    "print(f\"The upper quartile for Ramicane is {upperq_ram:1.2f}.\")\n",
    "print(f\"The interquartile range is {iqr_ram:1.2f}.\")\n",
    "\n",
    "# Find upper and lower bounds and print out results\n",
    "lowerbound = lowerq_ram - (1.5*iqr_ram)\n",
    "upperbound = upperq_ram + (1.5*iqr_ram)\n",
    "print(f\"Potential Outliers: values below {lowerbound:1.2f} and above {upperbound:1.2f}\")\n",
    "print(f\"Min: {min(ramicane_vol):1.2f}\")\n",
    "print(f\"Max: {max(ramicane_vol):1.2f}\")\n",
    "\n",
    "# Quantitatively Determine if there are outliers\n",
    "if min(ramicane_vol) < lowerbound:\n",
    "    print(\" There is a potential outlier below the lower bound.\")\n",
    "elif max(ramicane_vol) > upperbound:\n",
    "    print(\" There is a potential outlier above the upper bound.\")\n",
    "else:\n",
    "    print(\" No outliers found.\")"
   ]
  },
  {
   "cell_type": "code",
   "execution_count": 39,
   "id": "integrated-haven",
   "metadata": {},
   "outputs": [
    {
     "name": "stdout",
     "output_type": "stream",
     "text": [
      "The lower quartile for Infubinol is 54.05.\n",
      "The upper quartile for Infubinol is 65.53.\n",
      "The interquartile range is 11.48.\n",
      "Potential Outliers: values below 36.83 and above 82.74\n",
      "Min: 36.32\n",
      "Max: 72.23\n",
      " There is a potential outlier below the lower bound.\n"
     ]
    }
   ],
   "source": [
    "# Create quartiles & IQR: infubinol\n",
    "quartiles_inf = infubinol_vol.quantile([.25,.5,.75])\n",
    "lowerq_inf = quartiles_inf[.25]\n",
    "upperq_inf = quartiles_inf[.75]\n",
    "iqr_inf = upperq_inf-lowerq_inf\n",
    "\n",
    "# Print out results\n",
    "print(f\"The lower quartile for Infubinol is {lowerq_inf:1.2f}.\")\n",
    "print(f\"The upper quartile for Infubinol is {upperq_inf:1.2f}.\")\n",
    "print(f\"The interquartile range is {iqr_inf:1.2f}.\")\n",
    "\n",
    "lowerbound = lowerq_inf - (1.5*iqr_inf)\n",
    "upperbound = upperq_inf + (1.5*iqr_inf)\n",
    "print(f\"Potential Outliers: values below {lowerbound:1.2f} and above {upperbound:1.2f}\")\n",
    "print(f\"Min: {min(infubinol_vol):1.2f}\")\n",
    "print(f\"Max: {max(infubinol_vol):1.2f}\")\n",
    "\n",
    "\n",
    "# Quantitatively Determine if there are outliers\n",
    "if min(infubinol_vol) < lowerbound:\n",
    "    print(\" There is a potential outlier below the lower bound.\")\n",
    "elif max(infubinol_vol) > upperbound:\n",
    "    print(\" There is a potential outlier above the upper bound.\")\n",
    "else:\n",
    "    print(\" No outliers found.\")\n",
    "        "
   ]
  },
  {
   "cell_type": "code",
   "execution_count": 40,
   "id": "standing-belly",
   "metadata": {},
   "outputs": [
    {
     "name": "stdout",
     "output_type": "stream",
     "text": [
      "The lower quartile for Ceftamin is 48.72.\n",
      "The upper quartile for Ceftamin is 64.30.\n",
      "The interquartile range is 15.58.\n",
      "Potential Outliers: values below 25.36 and above 87.67\n",
      "Min: 45.00\n",
      "Max: 68.92\n",
      " No outliers found.\n"
     ]
    }
   ],
   "source": [
    "# Create quartiles & IQR: ceftamin\n",
    "quartiles_ceft = ceftamin_vol.quantile([.25,.5,.75])\n",
    "lowerq_ceft = quartiles_ceft[.25]\n",
    "upperq_ceft = quartiles_ceft[.75]\n",
    "iqr_ceft = upperq_ceft-lowerq_ceft\n",
    "\n",
    "# Print out results\n",
    "print(f\"The lower quartile for Ceftamin is {lowerq_ceft:1.2f}.\")\n",
    "print(f\"The upper quartile for Ceftamin is {upperq_ceft:1.2f}.\")\n",
    "print(f\"The interquartile range is {iqr_ceft:1.2f}.\")\n",
    "\n",
    "# Find upper and lower bounds and print out results\n",
    "lowerbound = lowerq_ceft - (1.5*iqr_ceft)\n",
    "upperbound = upperq_ceft + (1.5*iqr_ceft)\n",
    "print(f\"Potential Outliers: values below {lowerbound:1.2f} and above {upperbound:1.2f}\")\n",
    "print(f\"Min: {min(ceftamin_vol):1.2f}\")\n",
    "print(f\"Max: {max(ceftamin_vol):1.2f}\")      \n",
    "\n",
    "# Quantitatively Determine if there are outliers\n",
    "if min(ceftamin_vol) < lowerbound:\n",
    "    print(\" There is a potential outlier below the lower bound.\")\n",
    "elif max(ceftamin_vol) > upperbound:\n",
    "    print(\" There is a potential outlier above the upper bound.\")\n",
    "else:\n",
    "    print(\" No outliers found.\")"
   ]
  },
  {
   "cell_type": "markdown",
   "id": "quick-pledge",
   "metadata": {},
   "source": [
    "## Box Plots for Final Tumor Volume over 4 Regimens:"
   ]
  },
  {
   "cell_type": "code",
   "execution_count": 41,
   "id": "proved-arnold",
   "metadata": {},
   "outputs": [
    {
     "data": {
      "image/png": "[encoded data removed]",
      "text/plain": [
       "<Figure size 432x288 with 1 Axes>"
      ]
     },
     "metadata": {
      "needs_background": "light"
     },
     "output_type": "display_data"
    },
    {
     "data": {
      "image/png": "[encoded data removed]",
      "text/plain": [
       "<Figure size 432x288 with 1 Axes>"
      ]
     },
     "metadata": {
      "needs_background": "light"
     },
     "output_type": "display_data"
    },
    {
     "data": {
      "image/png": "[encoded data removed]",
      "text/plain": [
       "<Figure size 432x288 with 1 Axes>"
      ]
     },
     "metadata": {
      "needs_background": "light"
     },
     "output_type": "display_data"
    },
    {
     "data": {
      "image/png": "[encoded data removed]",
      "text/plain": [
       "<Figure size 432x288 with 1 Axes>"
      ]
     },
     "metadata": {
      "needs_background": "light"
     },
     "output_type": "display_data"
    }
   ],
   "source": [
    "# Capomulin\n",
    "fig1, ax1 = plt.subplots()\n",
    "ax1.set_title(\"Final Tumor Volumes: Capomulin\")\n",
    "ax1.set_ylabel(\"Volume (mm3)\")\n",
    "ax1.set_xlabel(\"Capomulin\")\n",
    "green_circle = dict(markerfacecolor='g', marker=\"o\")\n",
    "ax1.boxplot(capomulin_vol, flierprops=green_circle)\n",
    "ax1.set_ylim(min(merged_mice[\"Tumor Volume (mm3)\"])-1, max(merged_mice[\"Tumor Volume (mm3)\"])+1)\n",
    "\n",
    "# Ramicane\n",
    "fig1, ax2 = plt.subplots()\n",
    "ax2.set_title(\"Final Tumor Volumes: Ramicane\")\n",
    "ax2.set_ylabel(\"Volume (mm3)\")\n",
    "ax2.set_xlabel(\"Ramicane\")\n",
    "green_circle = dict(markerfacecolor='g', marker=\"o\")\n",
    "ax2.boxplot(ramicane_vol, flierprops=green_circle)\n",
    "ax2.set_ylim(min(merged_mice[\"Tumor Volume (mm3)\"])-1, max(merged_mice[\"Tumor Volume (mm3)\"])+1)\n",
    "\n",
    "# Infubinol\n",
    "fig1, ax3 = plt.subplots()\n",
    "ax3.set_title(\"Final Tumor Volumes: Infubinol\")\n",
    "ax3.set_xlabel(\"Infubinol\")\n",
    "ax3.set_ylabel(\"Volume (mm3)\")\n",
    "green_circle = dict(markerfacecolor='g', marker=\"o\")\n",
    "ax3.boxplot(infubinol_vol, flierprops=green_circle)\n",
    "ax3.set_ylim(min(merged_mice[\"Tumor Volume (mm3)\"])-1, max(merged_mice[\"Tumor Volume (mm3)\"])+1)\n",
    "\n",
    "# Ceftamin\n",
    "fig1, ax4 = plt.subplots()\n",
    "ax4.set_title(\"Final Tumor Volumes: Ceftamin\")\n",
    "ax4.set_ylabel(\"Volume (mm3)\")\n",
    "ax4.set_xlabel(\"Ceftamin\")\n",
    "green_circle = dict(markerfacecolor='g', marker=\"o\")\n",
    "ax4.boxplot(ceftamin_vol, flierprops=green_circle)\n",
    "ax4.set_ylim(min(merged_mice[\"Tumor Volume (mm3)\"])-1, max(merged_mice[\"Tumor Volume (mm3)\"])+1)\n",
    "\n",
    "plt.show()"
   ]
  },
  {
   "cell_type": "code",
   "execution_count": 42,
   "id": "finished-memphis",
   "metadata": {},
   "outputs": [
    {
     "data": {
      "image/png": "[encoded data removed]",
      "text/plain": [
       "<Figure size 432x288 with 1 Axes>"
      ]
     },
     "metadata": {
      "needs_background": "light"
     },
     "output_type": "display_data"
    }
   ],
   "source": [
    "# All Treatments\n",
    "fig5, ax5 = plt.subplots()\n",
    "ax5.set_title(\"Final Tumor Volumes: All Treatments\")\n",
    "ax5.set_ylabel(\"Volume (mm3)\")\n",
    "ax5.set_xlabel(\"All Treatments\")\n",
    "green_circle = dict(markerfacecolor='g', marker=\"o\")\n",
    "ax5.boxplot([capomulin_vol, ramicane_vol, infubinol_vol, ceftamin_vol], flierprops=green_circle)\n",
    "ax5.set_ylim(min(merged_mice[\"Tumor Volume (mm3)\"])-1, max(merged_mice[\"Tumor Volume (mm3)\"])+1)\n",
    "plt.xticks([1,2,3,4], [\"Capomulin\", \"Ramicane\", \"Infubinol\", \"Ceftamin\"])\n",
    "\n",
    "plt.show()"
   ]
  },
  {
   "cell_type": "code",
   "execution_count": 43,
   "id": "coated-nirvana",
   "metadata": {},
   "outputs": [],
   "source": [
    "# Collect all mice from capomulin\n",
    "capomulin_mice = promising_regimens.loc[(promising_regimens[\"Drug Regimen\"] == \"Capomulin\"),:]\n",
    "# Reset the index\n",
    "capomulin_mice = capomulin_mice.reset_index(drop=True)\n",
    "\n",
    "# Select one mouse with Capomulin treatment\n",
    "capomulin_single_mouse = capomulin_mice.loc[capomulin_mice[\"Mouse ID\"] == \"s185\",:]\n",
    "\n",
    "# Reset the index\n",
    "capomulin_single_mouse = capomulin_single_mouse.reset_index(drop=True)\n",
    "# Create axes for line graph\n",
    "x_axis = capomulin_single_mouse[\"Tumor Volume (mm3)\"]\n",
    "y_axis = capomulin_single_mouse[\"Timepoint\"]"
   ]
  },
  {
   "cell_type": "markdown",
   "id": "constant-mambo",
   "metadata": {},
   "source": [
    "## Mouse \"s185\": Tumor Volume over Time on Capomulin"
   ]
  },
  {
   "cell_type": "code",
   "execution_count": 44,
   "id": "consolidated-shield",
   "metadata": {},
   "outputs": [
    {
     "data": {
      "image/png": "[encoded data removed]",
      "text/plain": [
       "<Figure size 432x288 with 1 Axes>"
      ]
     },
     "metadata": {
      "needs_background": "light"
     },
     "output_type": "display_data"
    }
   ],
   "source": [
    "# Plot line graph for specific mouse\n",
    "plt.plot(x_axis, y_axis, linewidth=3, marker=\"o\", color=\"purple\")\n",
    "plt.xlabel(\"Tumor Volume (mm3)\")\n",
    "plt.ylabel(\"Timepoint\")\n",
    "plt.title(\"Tumor Volume over Time on Capomulin: Mouse 's185'\")\n",
    "plt.show()"
   ]
  },
  {
   "cell_type": "markdown",
   "id": "affiliated-explorer",
   "metadata": {},
   "source": [
    "## Tumor Volume vs. Mouse Weight for Capomulin:"
   ]
  },
  {
   "cell_type": "code",
   "execution_count": null,
   "id": "strange-baghdad",
   "metadata": {},
   "outputs": [],
   "source": [
    "# Define axes for scatter plot\n",
    "# Create groupby to get avg tumor volume\n",
    "avg_tumor_groupby = capomulin_mice.groupby(\"Weight (g)\").mean()\n",
    "# Remove other columns: create avg volume series\n",
    "avg_tumor_volume = avg_tumor_groupby[\"Tumor Volume (mm3)\"]\n",
    "# Reset index\n",
    "avg_tumor_groupby = avg_tumor_groupby.reset_index()\n",
    "# Create weight series\n",
    "groupby_weight = avg_tumor_groupby[\"Weight (g)\"]\n",
    "\n",
    "# Create scatter plot & labels & title\n",
    "plt.scatter(groupby_weight, avg_tumor_volume)\n",
    "plt.xlabel(\"Weight (g)\")\n",
    "plt.ylabel(\"Average Tumor Volume (mm3)\")\n",
    "plt.title(\"Average Tumor Volume vs. Mouse Weight\")\n",
    "\n",
    "# Create linear regression model & equation\n",
    "(slope, intercept, rvalue, pvalue, stderr) = linregress(groupby_weight, avg_tumor_volume)\n",
    "regress_values = groupby_weight * slope + intercept\n",
    "line_equation = f\"y = {round(slope,2)}x + {round(intercept,2)}\"\n",
    "plt.plot(groupby_weight, regress_values, \"g-\", linewidth= 2)\n",
    "plt.annotate(line_equation, (16,44), fontsize=14, color=\"green\")\n",
    "#plt.figure(figsize=(25,25))\n",
    "plt.show()"
   ]
  },
  {
   "cell_type": "markdown",
   "id": "cultural-glossary",
   "metadata": {},
   "source": [
    "## Correlation Coefficient:"
   ]
  },
  {
   "cell_type": "code",
   "execution_count": null,
   "id": "historical-forest",
   "metadata": {},
   "outputs": [],
   "source": [
    "# Define correlation and find it\n",
    "correlation = sts.pearsonr(groupby_weight, avg_tumor_volume)\n",
    "print(f\"The correlation coefficient is {correlation[0]:1.2f}\")"
   ]
  },
  {
   "cell_type": "markdown",
   "id": "committed-relations",
   "metadata": {},
   "source": [
    "## Find *Tumor Volume over Time on Capomulin* for Other Mice:"
   ]
  },
  {
   "cell_type": "code",
   "execution_count": 79,
   "id": "moving-thanks",
   "metadata": {},
   "outputs": [
    {
     "name": "stdout",
     "output_type": "stream",
     "text": [
      "List of Mouse IDs:\n",
      "b128, b742, f966, g288, g316, i557, i738, j119, j246, l509, l897, m601, m957, r157, r554, r944, s185, s710, t565, u364, v923, w150, w914, x401, y793\n"
     ]
    }
   ],
   "source": [
    "# List to choose from\n",
    "list_the_mice = []\n",
    "list_cap_mice = capomulin_mice.groupby(\"Mouse ID\").count()\n",
    "list_cap_mice = list_cap_mice.reset_index()\n",
    "list_the_mice = list_cap_mice[\"Mouse ID\"]\n",
    "\n",
    "print(\"List of Mouse IDs:\")\n",
    "print(*list_the_mice, sep= ', ')"
   ]
  },
  {
   "cell_type": "code",
   "execution_count": 80,
   "id": "instructional-andrew",
   "metadata": {},
   "outputs": [
    {
     "name": "stdout",
     "output_type": "stream",
     "text": [
      "What mouse would you like to see? (Select from list above) j119\n",
      "You chose Mouse j119. Run the next cell to see its results over time.\n"
     ]
    }
   ],
   "source": [
    "# User Input Mode:\n",
    "break_out = 0\n",
    "\n",
    "for x in range(len(list_the_mice)):\n",
    "    \n",
    "    input_q = (\"What mouse would you like to see? (Select from list above) \")\n",
    "    mouse_selection = input(input_q)\n",
    "    \n",
    "    # Determine if the mouse ID exists\n",
    "    for x in range(len(list_the_mice)):\n",
    "        \n",
    "        if mouse_selection == list_the_mice[x]:\n",
    "            print(f\"You chose Mouse {mouse_selection}. Run the next cell to see its results over time.\")\n",
    "            break_out = 1\n",
    "            break\n",
    "                \n",
    "    if mouse_selection != list_the_mice[x]:\n",
    "        print(f\"{mouse_selection} is not a known Mouse ID. Please input a MouseID from the above list.\")\n",
    "    elif break_out == 1:\n",
    "        break\n",
    "        \n",
    "# Select one mouse with Capomulin treatment\n",
    "capomulin_mouse_selection = capomulin_mice.loc[capomulin_mice[\"Mouse ID\"] == mouse_selection,:]\n",
    "\n",
    "# Reset the index\n",
    "capomulin_mouse_selection = capomulin_mouse_selection.reset_index(drop=True)\n",
    "\n",
    "# Create axes for line graph\n",
    "x_axis = capomulin_mouse_selection[\"Tumor Volume (mm3)\"]\n",
    "y_axis = capomulin_mouse_selection[\"Timepoint\"]"
   ]
  },
  {
   "cell_type": "code",
   "execution_count": 81,
   "id": "solar-anaheim",
   "metadata": {
    "scrolled": true
   },
   "outputs": [
    {
     "data": {
      "image/png": "[encoded data removed]",
      "text/plain": [
       "<Figure size 432x288 with 1 Axes>"
      ]
     },
     "metadata": {
      "needs_background": "light"
     },
     "output_type": "display_data"
    }
   ],
   "source": [
    "# Plot user selected mouse\n",
    "plt.plot(x_axis, y_axis, linewidth=3, marker=\"o\", color=\"purple\")\n",
    "plt.xlabel(\"Tumor Volume (mm3)\")\n",
    "plt.ylabel(\"Timepoint\")\n",
    "plt.title(f\"Tumor Volume over Time on Capomulin: Mouse {mouse_selection}\")\n",
    "plt.show()"
   ]
  },
  {
   "cell_type": "code",
   "execution_count": null,
   "id": "quality-librarian",
   "metadata": {},
   "outputs": [],
   "source": []
  }
 ],
 "metadata": {
  "kernelspec": {
   "display_name": "Python [conda env:PythonData] *",
   "language": "python",
   "name": "conda-env-PythonData-py"
  },
  "language_info": {
   "codemirror_mode": {
    "name": "ipython",
    "version": 3
   },
   "file_extension": ".py",
   "mimetype": "text/x-python",
   "name": "python",
   "nbconvert_exporter": "python",
   "pygments_lexer": "ipython3",
   "version": "3.6.10"
  }
 },
 "nbformat": 4,
 "nbformat_minor": 5
}
